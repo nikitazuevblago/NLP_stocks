{
 "cells": [
  {
   "cell_type": "code",
   "execution_count": 65,
   "id": "afe79bc6-0821-4963-92a1-04126ab7d0cf",
   "metadata": {},
   "outputs": [
    {
     "name": "stdout",
     "output_type": "stream",
     "text": [
      "Requirement already satisfied: spacy in c:\\users\\newzn\\appdata\\local\\packages\\pythonsoftwarefoundation.python.3.11_qbz5n2kfra8p0\\localcache\\local-packages\\python311\\site-packages (3.6.1)\n",
      "Requirement already satisfied: spacy-legacy<3.1.0,>=3.0.11 in c:\\users\\newzn\\appdata\\local\\packages\\pythonsoftwarefoundation.python.3.11_qbz5n2kfra8p0\\localcache\\local-packages\\python311\\site-packages (from spacy) (3.0.12)\n",
      "Requirement already satisfied: spacy-loggers<2.0.0,>=1.0.0 in c:\\users\\newzn\\appdata\\local\\packages\\pythonsoftwarefoundation.python.3.11_qbz5n2kfra8p0\\localcache\\local-packages\\python311\\site-packages (from spacy) (1.0.5)\n",
      "Requirement already satisfied: murmurhash<1.1.0,>=0.28.0 in c:\\users\\newzn\\appdata\\local\\packages\\pythonsoftwarefoundation.python.3.11_qbz5n2kfra8p0\\localcache\\local-packages\\python311\\site-packages (from spacy) (1.0.10)\n",
      "Requirement already satisfied: cymem<2.1.0,>=2.0.2 in c:\\users\\newzn\\appdata\\local\\packages\\pythonsoftwarefoundation.python.3.11_qbz5n2kfra8p0\\localcache\\local-packages\\python311\\site-packages (from spacy) (2.0.8)\n",
      "Requirement already satisfied: preshed<3.1.0,>=3.0.2 in c:\\users\\newzn\\appdata\\local\\packages\\pythonsoftwarefoundation.python.3.11_qbz5n2kfra8p0\\localcache\\local-packages\\python311\\site-packages (from spacy) (3.0.9)\n",
      "Requirement already satisfied: thinc<8.2.0,>=8.1.8 in c:\\users\\newzn\\appdata\\local\\packages\\pythonsoftwarefoundation.python.3.11_qbz5n2kfra8p0\\localcache\\local-packages\\python311\\site-packages (from spacy) (8.1.12)\n",
      "Requirement already satisfied: wasabi<1.2.0,>=0.9.1 in c:\\users\\newzn\\appdata\\local\\packages\\pythonsoftwarefoundation.python.3.11_qbz5n2kfra8p0\\localcache\\local-packages\\python311\\site-packages (from spacy) (1.1.2)\n",
      "Requirement already satisfied: srsly<3.0.0,>=2.4.3 in c:\\users\\newzn\\appdata\\local\\packages\\pythonsoftwarefoundation.python.3.11_qbz5n2kfra8p0\\localcache\\local-packages\\python311\\site-packages (from spacy) (2.4.8)\n",
      "Requirement already satisfied: catalogue<2.1.0,>=2.0.6 in c:\\users\\newzn\\appdata\\local\\packages\\pythonsoftwarefoundation.python.3.11_qbz5n2kfra8p0\\localcache\\local-packages\\python311\\site-packages (from spacy) (2.0.9)\n",
      "Requirement already satisfied: typer<0.10.0,>=0.3.0 in c:\\users\\newzn\\appdata\\local\\packages\\pythonsoftwarefoundation.python.3.11_qbz5n2kfra8p0\\localcache\\local-packages\\python311\\site-packages (from spacy) (0.9.0)\n",
      "Requirement already satisfied: pathy>=0.10.0 in c:\\users\\newzn\\appdata\\local\\packages\\pythonsoftwarefoundation.python.3.11_qbz5n2kfra8p0\\localcache\\local-packages\\python311\\site-packages (from spacy) (0.10.2)\n",
      "Requirement already satisfied: smart-open<7.0.0,>=5.2.1 in c:\\users\\newzn\\appdata\\local\\packages\\pythonsoftwarefoundation.python.3.11_qbz5n2kfra8p0\\localcache\\local-packages\\python311\\site-packages (from spacy) (6.4.0)\n",
      "Requirement already satisfied: tqdm<5.0.0,>=4.38.0 in c:\\users\\newzn\\appdata\\local\\packages\\pythonsoftwarefoundation.python.3.11_qbz5n2kfra8p0\\localcache\\local-packages\\python311\\site-packages (from spacy) (4.66.1)\n",
      "Requirement already satisfied: numpy>=1.15.0 in c:\\users\\newzn\\appdata\\local\\packages\\pythonsoftwarefoundation.python.3.11_qbz5n2kfra8p0\\localcache\\local-packages\\python311\\site-packages (from spacy) (1.25.2)\n",
      "Requirement already satisfied: requests<3.0.0,>=2.13.0 in c:\\users\\newzn\\appdata\\local\\packages\\pythonsoftwarefoundation.python.3.11_qbz5n2kfra8p0\\localcache\\local-packages\\python311\\site-packages (from spacy) (2.31.0)\n",
      "Requirement already satisfied: pydantic!=1.8,!=1.8.1,<3.0.0,>=1.7.4 in c:\\users\\newzn\\appdata\\local\\packages\\pythonsoftwarefoundation.python.3.11_qbz5n2kfra8p0\\localcache\\local-packages\\python311\\site-packages (from spacy) (2.3.0)\n",
      "Requirement already satisfied: jinja2 in c:\\users\\newzn\\appdata\\local\\packages\\pythonsoftwarefoundation.python.3.11_qbz5n2kfra8p0\\localcache\\local-packages\\python311\\site-packages (from spacy) (3.1.2)\n",
      "Requirement already satisfied: setuptools in c:\\program files\\windowsapps\\pythonsoftwarefoundation.python.3.11_3.11.1520.0_x64__qbz5n2kfra8p0\\lib\\site-packages (from spacy) (65.5.0)\n",
      "Requirement already satisfied: packaging>=20.0 in c:\\users\\newzn\\appdata\\local\\packages\\pythonsoftwarefoundation.python.3.11_qbz5n2kfra8p0\\localcache\\local-packages\\python311\\site-packages (from spacy) (23.1)\n",
      "Requirement already satisfied: langcodes<4.0.0,>=3.2.0 in c:\\users\\newzn\\appdata\\local\\packages\\pythonsoftwarefoundation.python.3.11_qbz5n2kfra8p0\\localcache\\local-packages\\python311\\site-packages (from spacy) (3.3.0)\n",
      "Requirement already satisfied: annotated-types>=0.4.0 in c:\\users\\newzn\\appdata\\local\\packages\\pythonsoftwarefoundation.python.3.11_qbz5n2kfra8p0\\localcache\\local-packages\\python311\\site-packages (from pydantic!=1.8,!=1.8.1,<3.0.0,>=1.7.4->spacy) (0.5.0)\n",
      "Requirement already satisfied: pydantic-core==2.6.3 in c:\\users\\newzn\\appdata\\local\\packages\\pythonsoftwarefoundation.python.3.11_qbz5n2kfra8p0\\localcache\\local-packages\\python311\\site-packages (from pydantic!=1.8,!=1.8.1,<3.0.0,>=1.7.4->spacy) (2.6.3)\n",
      "Requirement already satisfied: typing-extensions>=4.6.1 in c:\\users\\newzn\\appdata\\local\\packages\\pythonsoftwarefoundation.python.3.11_qbz5n2kfra8p0\\localcache\\local-packages\\python311\\site-packages (from pydantic!=1.8,!=1.8.1,<3.0.0,>=1.7.4->spacy) (4.7.1)\n",
      "Requirement already satisfied: charset-normalizer<4,>=2 in c:\\users\\newzn\\appdata\\local\\packages\\pythonsoftwarefoundation.python.3.11_qbz5n2kfra8p0\\localcache\\local-packages\\python311\\site-packages (from requests<3.0.0,>=2.13.0->spacy) (3.2.0)\n",
      "Requirement already satisfied: idna<4,>=2.5 in c:\\users\\newzn\\appdata\\local\\packages\\pythonsoftwarefoundation.python.3.11_qbz5n2kfra8p0\\localcache\\local-packages\\python311\\site-packages (from requests<3.0.0,>=2.13.0->spacy) (3.4)\n",
      "Requirement already satisfied: urllib3<3,>=1.21.1 in c:\\users\\newzn\\appdata\\local\\packages\\pythonsoftwarefoundation.python.3.11_qbz5n2kfra8p0\\localcache\\local-packages\\python311\\site-packages (from requests<3.0.0,>=2.13.0->spacy) (2.0.4)\n",
      "Requirement already satisfied: certifi>=2017.4.17 in c:\\users\\newzn\\appdata\\local\\packages\\pythonsoftwarefoundation.python.3.11_qbz5n2kfra8p0\\localcache\\local-packages\\python311\\site-packages (from requests<3.0.0,>=2.13.0->spacy) (2023.7.22)\n",
      "Requirement already satisfied: blis<0.8.0,>=0.7.8 in c:\\users\\newzn\\appdata\\local\\packages\\pythonsoftwarefoundation.python.3.11_qbz5n2kfra8p0\\localcache\\local-packages\\python311\\site-packages (from thinc<8.2.0,>=8.1.8->spacy) (0.7.11)\n",
      "Requirement already satisfied: confection<1.0.0,>=0.0.1 in c:\\users\\newzn\\appdata\\local\\packages\\pythonsoftwarefoundation.python.3.11_qbz5n2kfra8p0\\localcache\\local-packages\\python311\\site-packages (from thinc<8.2.0,>=8.1.8->spacy) (0.1.3)\n",
      "Requirement already satisfied: colorama in c:\\users\\newzn\\appdata\\local\\packages\\pythonsoftwarefoundation.python.3.11_qbz5n2kfra8p0\\localcache\\local-packages\\python311\\site-packages (from tqdm<5.0.0,>=4.38.0->spacy) (0.4.6)\n",
      "Requirement already satisfied: click<9.0.0,>=7.1.1 in c:\\users\\newzn\\appdata\\local\\packages\\pythonsoftwarefoundation.python.3.11_qbz5n2kfra8p0\\localcache\\local-packages\\python311\\site-packages (from typer<0.10.0,>=0.3.0->spacy) (8.1.7)\n",
      "Requirement already satisfied: MarkupSafe>=2.0 in c:\\users\\newzn\\appdata\\local\\packages\\pythonsoftwarefoundation.python.3.11_qbz5n2kfra8p0\\localcache\\local-packages\\python311\\site-packages (from jinja2->spacy) (2.1.3)\n",
      "Collecting en-core-web-sm==3.6.0\n",
      "  Downloading https://github.com/explosion/spacy-models/releases/download/en_core_web_sm-3.6.0/en_core_web_sm-3.6.0-py3-none-any.whl (12.8 MB)\n",
      "     ---------------------------------------- 0.0/12.8 MB ? eta -:--:--\n",
      "     --------------------------------------- 0.0/12.8 MB 640.0 kB/s eta 0:00:20\n",
      "     --------------------------------------- 0.1/12.8 MB 812.7 kB/s eta 0:00:16\n",
      "      --------------------------------------- 0.2/12.8 MB 2.1 MB/s eta 0:00:07\n",
      "     - -------------------------------------- 0.5/12.8 MB 3.2 MB/s eta 0:00:04\n",
      "     --- ------------------------------------ 1.0/12.8 MB 4.8 MB/s eta 0:00:03\n",
      "     ---- ----------------------------------- 1.5/12.8 MB 6.2 MB/s eta 0:00:02\n",
      "     ------ --------------------------------- 1.9/12.8 MB 7.3 MB/s eta 0:00:02\n",
      "     ------- -------------------------------- 2.4/12.8 MB 7.7 MB/s eta 0:00:02\n",
      "     --------- ------------------------------ 2.9/12.8 MB 8.0 MB/s eta 0:00:02\n",
      "     ---------- ----------------------------- 3.3/12.8 MB 8.5 MB/s eta 0:00:02\n",
      "     ----------- ---------------------------- 3.5/12.8 MB 8.7 MB/s eta 0:00:02\n",
      "     ----------- ---------------------------- 3.7/12.8 MB 7.9 MB/s eta 0:00:02\n",
      "     -------------- ------------------------- 4.8/12.8 MB 9.2 MB/s eta 0:00:01\n",
      "     ---------------- ----------------------- 5.3/12.8 MB 9.6 MB/s eta 0:00:01\n",
      "     ----------------- ---------------------- 5.7/12.8 MB 9.6 MB/s eta 0:00:01\n",
      "     ------------------- -------------------- 6.1/12.8 MB 9.8 MB/s eta 0:00:01\n",
      "     -------------------- ------------------- 6.6/12.8 MB 9.8 MB/s eta 0:00:01\n",
      "     ---------------------- ----------------- 7.1/12.8 MB 10.1 MB/s eta 0:00:01\n",
      "     ----------------------- ---------------- 7.6/12.8 MB 10.1 MB/s eta 0:00:01\n",
      "     ------------------------- -------------- 8.1/12.8 MB 10.1 MB/s eta 0:00:01\n",
      "     -------------------------- ------------- 8.6/12.8 MB 10.3 MB/s eta 0:00:01\n",
      "     ---------------------------- ----------- 9.0/12.8 MB 10.3 MB/s eta 0:00:01\n",
      "     ----------------------------- ---------- 9.5/12.8 MB 10.4 MB/s eta 0:00:01\n",
      "     ------------------------------ -------- 10.0/12.8 MB 10.4 MB/s eta 0:00:01\n",
      "     ------------------------------- ------- 10.4/12.8 MB 11.7 MB/s eta 0:00:01\n",
      "     --------------------------------- ----- 10.9/12.8 MB 11.9 MB/s eta 0:00:01\n",
      "     ---------------------------------- ---- 11.4/12.8 MB 11.9 MB/s eta 0:00:01\n",
      "     ------------------------------------ -- 11.9/12.8 MB 11.9 MB/s eta 0:00:01\n",
      "     ------------------------------------- - 12.3/12.8 MB 11.9 MB/s eta 0:00:01\n",
      "     --------------------------------------- 12.8/12.8 MB 11.9 MB/s eta 0:00:00\n",
      "Requirement already satisfied: spacy<3.7.0,>=3.6.0 in c:\\users\\newzn\\appdata\\local\\packages\\pythonsoftwarefoundation.python.3.11_qbz5n2kfra8p0\\localcache\\local-packages\\python311\\site-packages (from en-core-web-sm==3.6.0) (3.6.1)\n",
      "Requirement already satisfied: spacy-legacy<3.1.0,>=3.0.11 in c:\\users\\newzn\\appdata\\local\\packages\\pythonsoftwarefoundation.python.3.11_qbz5n2kfra8p0\\localcache\\local-packages\\python311\\site-packages (from spacy<3.7.0,>=3.6.0->en-core-web-sm==3.6.0) (3.0.12)\n",
      "Requirement already satisfied: spacy-loggers<2.0.0,>=1.0.0 in c:\\users\\newzn\\appdata\\local\\packages\\pythonsoftwarefoundation.python.3.11_qbz5n2kfra8p0\\localcache\\local-packages\\python311\\site-packages (from spacy<3.7.0,>=3.6.0->en-core-web-sm==3.6.0) (1.0.5)\n",
      "Requirement already satisfied: murmurhash<1.1.0,>=0.28.0 in c:\\users\\newzn\\appdata\\local\\packages\\pythonsoftwarefoundation.python.3.11_qbz5n2kfra8p0\\localcache\\local-packages\\python311\\site-packages (from spacy<3.7.0,>=3.6.0->en-core-web-sm==3.6.0) (1.0.10)\n",
      "Requirement already satisfied: cymem<2.1.0,>=2.0.2 in c:\\users\\newzn\\appdata\\local\\packages\\pythonsoftwarefoundation.python.3.11_qbz5n2kfra8p0\\localcache\\local-packages\\python311\\site-packages (from spacy<3.7.0,>=3.6.0->en-core-web-sm==3.6.0) (2.0.8)\n",
      "Requirement already satisfied: preshed<3.1.0,>=3.0.2 in c:\\users\\newzn\\appdata\\local\\packages\\pythonsoftwarefoundation.python.3.11_qbz5n2kfra8p0\\localcache\\local-packages\\python311\\site-packages (from spacy<3.7.0,>=3.6.0->en-core-web-sm==3.6.0) (3.0.9)\n",
      "Requirement already satisfied: thinc<8.2.0,>=8.1.8 in c:\\users\\newzn\\appdata\\local\\packages\\pythonsoftwarefoundation.python.3.11_qbz5n2kfra8p0\\localcache\\local-packages\\python311\\site-packages (from spacy<3.7.0,>=3.6.0->en-core-web-sm==3.6.0) (8.1.12)\n",
      "Requirement already satisfied: wasabi<1.2.0,>=0.9.1 in c:\\users\\newzn\\appdata\\local\\packages\\pythonsoftwarefoundation.python.3.11_qbz5n2kfra8p0\\localcache\\local-packages\\python311\\site-packages (from spacy<3.7.0,>=3.6.0->en-core-web-sm==3.6.0) (1.1.2)\n",
      "Requirement already satisfied: srsly<3.0.0,>=2.4.3 in c:\\users\\newzn\\appdata\\local\\packages\\pythonsoftwarefoundation.python.3.11_qbz5n2kfra8p0\\localcache\\local-packages\\python311\\site-packages (from spacy<3.7.0,>=3.6.0->en-core-web-sm==3.6.0) (2.4.8)\n",
      "Requirement already satisfied: catalogue<2.1.0,>=2.0.6 in c:\\users\\newzn\\appdata\\local\\packages\\pythonsoftwarefoundation.python.3.11_qbz5n2kfra8p0\\localcache\\local-packages\\python311\\site-packages (from spacy<3.7.0,>=3.6.0->en-core-web-sm==3.6.0) (2.0.9)\n",
      "Requirement already satisfied: typer<0.10.0,>=0.3.0 in c:\\users\\newzn\\appdata\\local\\packages\\pythonsoftwarefoundation.python.3.11_qbz5n2kfra8p0\\localcache\\local-packages\\python311\\site-packages (from spacy<3.7.0,>=3.6.0->en-core-web-sm==3.6.0) (0.9.0)\n",
      "Requirement already satisfied: pathy>=0.10.0 in c:\\users\\newzn\\appdata\\local\\packages\\pythonsoftwarefoundation.python.3.11_qbz5n2kfra8p0\\localcache\\local-packages\\python311\\site-packages (from spacy<3.7.0,>=3.6.0->en-core-web-sm==3.6.0) (0.10.2)\n",
      "Requirement already satisfied: smart-open<7.0.0,>=5.2.1 in c:\\users\\newzn\\appdata\\local\\packages\\pythonsoftwarefoundation.python.3.11_qbz5n2kfra8p0\\localcache\\local-packages\\python311\\site-packages (from spacy<3.7.0,>=3.6.0->en-core-web-sm==3.6.0) (6.4.0)\n",
      "Requirement already satisfied: tqdm<5.0.0,>=4.38.0 in c:\\users\\newzn\\appdata\\local\\packages\\pythonsoftwarefoundation.python.3.11_qbz5n2kfra8p0\\localcache\\local-packages\\python311\\site-packages (from spacy<3.7.0,>=3.6.0->en-core-web-sm==3.6.0) (4.66.1)\n",
      "Requirement already satisfied: numpy>=1.15.0 in c:\\users\\newzn\\appdata\\local\\packages\\pythonsoftwarefoundation.python.3.11_qbz5n2kfra8p0\\localcache\\local-packages\\python311\\site-packages (from spacy<3.7.0,>=3.6.0->en-core-web-sm==3.6.0) (1.25.2)\n",
      "Requirement already satisfied: requests<3.0.0,>=2.13.0 in c:\\users\\newzn\\appdata\\local\\packages\\pythonsoftwarefoundation.python.3.11_qbz5n2kfra8p0\\localcache\\local-packages\\python311\\site-packages (from spacy<3.7.0,>=3.6.0->en-core-web-sm==3.6.0) (2.31.0)\n",
      "Requirement already satisfied: pydantic!=1.8,!=1.8.1,<3.0.0,>=1.7.4 in c:\\users\\newzn\\appdata\\local\\packages\\pythonsoftwarefoundation.python.3.11_qbz5n2kfra8p0\\localcache\\local-packages\\python311\\site-packages (from spacy<3.7.0,>=3.6.0->en-core-web-sm==3.6.0) (2.3.0)\n",
      "Requirement already satisfied: jinja2 in c:\\users\\newzn\\appdata\\local\\packages\\pythonsoftwarefoundation.python.3.11_qbz5n2kfra8p0\\localcache\\local-packages\\python311\\site-packages (from spacy<3.7.0,>=3.6.0->en-core-web-sm==3.6.0) (3.1.2)\n",
      "Requirement already satisfied: setuptools in c:\\program files\\windowsapps\\pythonsoftwarefoundation.python.3.11_3.11.1520.0_x64__qbz5n2kfra8p0\\lib\\site-packages (from spacy<3.7.0,>=3.6.0->en-core-web-sm==3.6.0) (65.5.0)\n",
      "Requirement already satisfied: packaging>=20.0 in c:\\users\\newzn\\appdata\\local\\packages\\pythonsoftwarefoundation.python.3.11_qbz5n2kfra8p0\\localcache\\local-packages\\python311\\site-packages (from spacy<3.7.0,>=3.6.0->en-core-web-sm==3.6.0) (23.1)\n",
      "Requirement already satisfied: langcodes<4.0.0,>=3.2.0 in c:\\users\\newzn\\appdata\\local\\packages\\pythonsoftwarefoundation.python.3.11_qbz5n2kfra8p0\\localcache\\local-packages\\python311\\site-packages (from spacy<3.7.0,>=3.6.0->en-core-web-sm==3.6.0) (3.3.0)\n",
      "Requirement already satisfied: annotated-types>=0.4.0 in c:\\users\\newzn\\appdata\\local\\packages\\pythonsoftwarefoundation.python.3.11_qbz5n2kfra8p0\\localcache\\local-packages\\python311\\site-packages (from pydantic!=1.8,!=1.8.1,<3.0.0,>=1.7.4->spacy<3.7.0,>=3.6.0->en-core-web-sm==3.6.0) (0.5.0)\n",
      "Requirement already satisfied: pydantic-core==2.6.3 in c:\\users\\newzn\\appdata\\local\\packages\\pythonsoftwarefoundation.python.3.11_qbz5n2kfra8p0\\localcache\\local-packages\\python311\\site-packages (from pydantic!=1.8,!=1.8.1,<3.0.0,>=1.7.4->spacy<3.7.0,>=3.6.0->en-core-web-sm==3.6.0) (2.6.3)\n",
      "Requirement already satisfied: typing-extensions>=4.6.1 in c:\\users\\newzn\\appdata\\local\\packages\\pythonsoftwarefoundation.python.3.11_qbz5n2kfra8p0\\localcache\\local-packages\\python311\\site-packages (from pydantic!=1.8,!=1.8.1,<3.0.0,>=1.7.4->spacy<3.7.0,>=3.6.0->en-core-web-sm==3.6.0) (4.7.1)\n",
      "Requirement already satisfied: charset-normalizer<4,>=2 in c:\\users\\newzn\\appdata\\local\\packages\\pythonsoftwarefoundation.python.3.11_qbz5n2kfra8p0\\localcache\\local-packages\\python311\\site-packages (from requests<3.0.0,>=2.13.0->spacy<3.7.0,>=3.6.0->en-core-web-sm==3.6.0) (3.2.0)\n",
      "Requirement already satisfied: idna<4,>=2.5 in c:\\users\\newzn\\appdata\\local\\packages\\pythonsoftwarefoundation.python.3.11_qbz5n2kfra8p0\\localcache\\local-packages\\python311\\site-packages (from requests<3.0.0,>=2.13.0->spacy<3.7.0,>=3.6.0->en-core-web-sm==3.6.0) (3.4)\n",
      "Requirement already satisfied: urllib3<3,>=1.21.1 in c:\\users\\newzn\\appdata\\local\\packages\\pythonsoftwarefoundation.python.3.11_qbz5n2kfra8p0\\localcache\\local-packages\\python311\\site-packages (from requests<3.0.0,>=2.13.0->spacy<3.7.0,>=3.6.0->en-core-web-sm==3.6.0) (2.0.4)\n",
      "Requirement already satisfied: certifi>=2017.4.17 in c:\\users\\newzn\\appdata\\local\\packages\\pythonsoftwarefoundation.python.3.11_qbz5n2kfra8p0\\localcache\\local-packages\\python311\\site-packages (from requests<3.0.0,>=2.13.0->spacy<3.7.0,>=3.6.0->en-core-web-sm==3.6.0) (2023.7.22)\n",
      "Requirement already satisfied: blis<0.8.0,>=0.7.8 in c:\\users\\newzn\\appdata\\local\\packages\\pythonsoftwarefoundation.python.3.11_qbz5n2kfra8p0\\localcache\\local-packages\\python311\\site-packages (from thinc<8.2.0,>=8.1.8->spacy<3.7.0,>=3.6.0->en-core-web-sm==3.6.0) (0.7.11)\n",
      "Requirement already satisfied: confection<1.0.0,>=0.0.1 in c:\\users\\newzn\\appdata\\local\\packages\\pythonsoftwarefoundation.python.3.11_qbz5n2kfra8p0\\localcache\\local-packages\\python311\\site-packages (from thinc<8.2.0,>=8.1.8->spacy<3.7.0,>=3.6.0->en-core-web-sm==3.6.0) (0.1.3)\n",
      "Requirement already satisfied: colorama in c:\\users\\newzn\\appdata\\local\\packages\\pythonsoftwarefoundation.python.3.11_qbz5n2kfra8p0\\localcache\\local-packages\\python311\\site-packages (from tqdm<5.0.0,>=4.38.0->spacy<3.7.0,>=3.6.0->en-core-web-sm==3.6.0) (0.4.6)\n",
      "Requirement already satisfied: click<9.0.0,>=7.1.1 in c:\\users\\newzn\\appdata\\local\\packages\\pythonsoftwarefoundation.python.3.11_qbz5n2kfra8p0\\localcache\\local-packages\\python311\\site-packages (from typer<0.10.0,>=0.3.0->spacy<3.7.0,>=3.6.0->en-core-web-sm==3.6.0) (8.1.7)\n",
      "Requirement already satisfied: MarkupSafe>=2.0 in c:\\users\\newzn\\appdata\\local\\packages\\pythonsoftwarefoundation.python.3.11_qbz5n2kfra8p0\\localcache\\local-packages\\python311\\site-packages (from jinja2->spacy<3.7.0,>=3.6.0->en-core-web-sm==3.6.0) (2.1.3)\n",
      "\u001b[38;5;2m[+] Download and installation successful\u001b[0m\n",
      "You can now load the package via spacy.load('en_core_web_sm')\n",
      "Requirement already satisfied: spacy-transformers in c:\\users\\newzn\\appdata\\local\\packages\\pythonsoftwarefoundation.python.3.11_qbz5n2kfra8p0\\localcache\\local-packages\\python311\\site-packages (1.2.5)\n",
      "Requirement already satisfied: spacy<4.0.0,>=3.5.0 in c:\\users\\newzn\\appdata\\local\\packages\\pythonsoftwarefoundation.python.3.11_qbz5n2kfra8p0\\localcache\\local-packages\\python311\\site-packages (from spacy-transformers) (3.6.1)\n",
      "Requirement already satisfied: numpy>=1.15.0 in c:\\users\\newzn\\appdata\\local\\packages\\pythonsoftwarefoundation.python.3.11_qbz5n2kfra8p0\\localcache\\local-packages\\python311\\site-packages (from spacy-transformers) (1.25.2)\n",
      "Requirement already satisfied: transformers<4.31.0,>=3.4.0 in c:\\users\\newzn\\appdata\\local\\packages\\pythonsoftwarefoundation.python.3.11_qbz5n2kfra8p0\\localcache\\local-packages\\python311\\site-packages (from spacy-transformers) (4.30.2)\n",
      "Requirement already satisfied: torch>=1.8.0 in c:\\users\\newzn\\appdata\\local\\packages\\pythonsoftwarefoundation.python.3.11_qbz5n2kfra8p0\\localcache\\local-packages\\python311\\site-packages (from spacy-transformers) (2.0.1)\n",
      "Requirement already satisfied: srsly<3.0.0,>=2.4.0 in c:\\users\\newzn\\appdata\\local\\packages\\pythonsoftwarefoundation.python.3.11_qbz5n2kfra8p0\\localcache\\local-packages\\python311\\site-packages (from spacy-transformers) (2.4.8)\n",
      "Requirement already satisfied: spacy-alignments<1.0.0,>=0.7.2 in c:\\users\\newzn\\appdata\\local\\packages\\pythonsoftwarefoundation.python.3.11_qbz5n2kfra8p0\\localcache\\local-packages\\python311\\site-packages (from spacy-transformers) (0.9.0)\n",
      "Requirement already satisfied: spacy-legacy<3.1.0,>=3.0.11 in c:\\users\\newzn\\appdata\\local\\packages\\pythonsoftwarefoundation.python.3.11_qbz5n2kfra8p0\\localcache\\local-packages\\python311\\site-packages (from spacy<4.0.0,>=3.5.0->spacy-transformers) (3.0.12)\n",
      "Requirement already satisfied: spacy-loggers<2.0.0,>=1.0.0 in c:\\users\\newzn\\appdata\\local\\packages\\pythonsoftwarefoundation.python.3.11_qbz5n2kfra8p0\\localcache\\local-packages\\python311\\site-packages (from spacy<4.0.0,>=3.5.0->spacy-transformers) (1.0.5)\n",
      "Requirement already satisfied: murmurhash<1.1.0,>=0.28.0 in c:\\users\\newzn\\appdata\\local\\packages\\pythonsoftwarefoundation.python.3.11_qbz5n2kfra8p0\\localcache\\local-packages\\python311\\site-packages (from spacy<4.0.0,>=3.5.0->spacy-transformers) (1.0.10)\n",
      "Requirement already satisfied: cymem<2.1.0,>=2.0.2 in c:\\users\\newzn\\appdata\\local\\packages\\pythonsoftwarefoundation.python.3.11_qbz5n2kfra8p0\\localcache\\local-packages\\python311\\site-packages (from spacy<4.0.0,>=3.5.0->spacy-transformers) (2.0.8)\n",
      "Requirement already satisfied: preshed<3.1.0,>=3.0.2 in c:\\users\\newzn\\appdata\\local\\packages\\pythonsoftwarefoundation.python.3.11_qbz5n2kfra8p0\\localcache\\local-packages\\python311\\site-packages (from spacy<4.0.0,>=3.5.0->spacy-transformers) (3.0.9)\n",
      "Requirement already satisfied: thinc<8.2.0,>=8.1.8 in c:\\users\\newzn\\appdata\\local\\packages\\pythonsoftwarefoundation.python.3.11_qbz5n2kfra8p0\\localcache\\local-packages\\python311\\site-packages (from spacy<4.0.0,>=3.5.0->spacy-transformers) (8.1.12)\n",
      "Requirement already satisfied: wasabi<1.2.0,>=0.9.1 in c:\\users\\newzn\\appdata\\local\\packages\\pythonsoftwarefoundation.python.3.11_qbz5n2kfra8p0\\localcache\\local-packages\\python311\\site-packages (from spacy<4.0.0,>=3.5.0->spacy-transformers) (1.1.2)\n",
      "Requirement already satisfied: catalogue<2.1.0,>=2.0.6 in c:\\users\\newzn\\appdata\\local\\packages\\pythonsoftwarefoundation.python.3.11_qbz5n2kfra8p0\\localcache\\local-packages\\python311\\site-packages (from spacy<4.0.0,>=3.5.0->spacy-transformers) (2.0.9)\n",
      "Requirement already satisfied: typer<0.10.0,>=0.3.0 in c:\\users\\newzn\\appdata\\local\\packages\\pythonsoftwarefoundation.python.3.11_qbz5n2kfra8p0\\localcache\\local-packages\\python311\\site-packages (from spacy<4.0.0,>=3.5.0->spacy-transformers) (0.9.0)\n",
      "Requirement already satisfied: pathy>=0.10.0 in c:\\users\\newzn\\appdata\\local\\packages\\pythonsoftwarefoundation.python.3.11_qbz5n2kfra8p0\\localcache\\local-packages\\python311\\site-packages (from spacy<4.0.0,>=3.5.0->spacy-transformers) (0.10.2)\n",
      "Requirement already satisfied: smart-open<7.0.0,>=5.2.1 in c:\\users\\newzn\\appdata\\local\\packages\\pythonsoftwarefoundation.python.3.11_qbz5n2kfra8p0\\localcache\\local-packages\\python311\\site-packages (from spacy<4.0.0,>=3.5.0->spacy-transformers) (6.4.0)\n",
      "Requirement already satisfied: tqdm<5.0.0,>=4.38.0 in c:\\users\\newzn\\appdata\\local\\packages\\pythonsoftwarefoundation.python.3.11_qbz5n2kfra8p0\\localcache\\local-packages\\python311\\site-packages (from spacy<4.0.0,>=3.5.0->spacy-transformers) (4.66.1)\n",
      "Requirement already satisfied: requests<3.0.0,>=2.13.0 in c:\\users\\newzn\\appdata\\local\\packages\\pythonsoftwarefoundation.python.3.11_qbz5n2kfra8p0\\localcache\\local-packages\\python311\\site-packages (from spacy<4.0.0,>=3.5.0->spacy-transformers) (2.31.0)\n",
      "Requirement already satisfied: pydantic!=1.8,!=1.8.1,<3.0.0,>=1.7.4 in c:\\users\\newzn\\appdata\\local\\packages\\pythonsoftwarefoundation.python.3.11_qbz5n2kfra8p0\\localcache\\local-packages\\python311\\site-packages (from spacy<4.0.0,>=3.5.0->spacy-transformers) (2.3.0)\n",
      "Requirement already satisfied: jinja2 in c:\\users\\newzn\\appdata\\local\\packages\\pythonsoftwarefoundation.python.3.11_qbz5n2kfra8p0\\localcache\\local-packages\\python311\\site-packages (from spacy<4.0.0,>=3.5.0->spacy-transformers) (3.1.2)\n",
      "Requirement already satisfied: setuptools in c:\\program files\\windowsapps\\pythonsoftwarefoundation.python.3.11_3.11.1520.0_x64__qbz5n2kfra8p0\\lib\\site-packages (from spacy<4.0.0,>=3.5.0->spacy-transformers) (65.5.0)\n",
      "Requirement already satisfied: packaging>=20.0 in c:\\users\\newzn\\appdata\\local\\packages\\pythonsoftwarefoundation.python.3.11_qbz5n2kfra8p0\\localcache\\local-packages\\python311\\site-packages (from spacy<4.0.0,>=3.5.0->spacy-transformers) (23.1)\n",
      "Requirement already satisfied: langcodes<4.0.0,>=3.2.0 in c:\\users\\newzn\\appdata\\local\\packages\\pythonsoftwarefoundation.python.3.11_qbz5n2kfra8p0\\localcache\\local-packages\\python311\\site-packages (from spacy<4.0.0,>=3.5.0->spacy-transformers) (3.3.0)\n",
      "Requirement already satisfied: filelock in c:\\users\\newzn\\appdata\\local\\packages\\pythonsoftwarefoundation.python.3.11_qbz5n2kfra8p0\\localcache\\local-packages\\python311\\site-packages (from torch>=1.8.0->spacy-transformers) (3.12.4)\n",
      "Requirement already satisfied: typing-extensions in c:\\users\\newzn\\appdata\\local\\packages\\pythonsoftwarefoundation.python.3.11_qbz5n2kfra8p0\\localcache\\local-packages\\python311\\site-packages (from torch>=1.8.0->spacy-transformers) (4.7.1)\n",
      "Requirement already satisfied: sympy in c:\\users\\newzn\\appdata\\local\\packages\\pythonsoftwarefoundation.python.3.11_qbz5n2kfra8p0\\localcache\\local-packages\\python311\\site-packages (from torch>=1.8.0->spacy-transformers) (1.12)\n",
      "Requirement already satisfied: networkx in c:\\users\\newzn\\appdata\\local\\packages\\pythonsoftwarefoundation.python.3.11_qbz5n2kfra8p0\\localcache\\local-packages\\python311\\site-packages (from torch>=1.8.0->spacy-transformers) (3.1)\n",
      "Requirement already satisfied: huggingface-hub<1.0,>=0.14.1 in c:\\users\\newzn\\appdata\\local\\packages\\pythonsoftwarefoundation.python.3.11_qbz5n2kfra8p0\\localcache\\local-packages\\python311\\site-packages (from transformers<4.31.0,>=3.4.0->spacy-transformers) (0.17.2)\n",
      "Requirement already satisfied: pyyaml>=5.1 in c:\\users\\newzn\\appdata\\local\\packages\\pythonsoftwarefoundation.python.3.11_qbz5n2kfra8p0\\localcache\\local-packages\\python311\\site-packages (from transformers<4.31.0,>=3.4.0->spacy-transformers) (6.0.1)\n",
      "Requirement already satisfied: regex!=2019.12.17 in c:\\users\\newzn\\appdata\\local\\packages\\pythonsoftwarefoundation.python.3.11_qbz5n2kfra8p0\\localcache\\local-packages\\python311\\site-packages (from transformers<4.31.0,>=3.4.0->spacy-transformers) (2023.8.8)\n",
      "Requirement already satisfied: tokenizers!=0.11.3,<0.14,>=0.11.1 in c:\\users\\newzn\\appdata\\local\\packages\\pythonsoftwarefoundation.python.3.11_qbz5n2kfra8p0\\localcache\\local-packages\\python311\\site-packages (from transformers<4.31.0,>=3.4.0->spacy-transformers) (0.13.3)\n",
      "Requirement already satisfied: safetensors>=0.3.1 in c:\\users\\newzn\\appdata\\local\\packages\\pythonsoftwarefoundation.python.3.11_qbz5n2kfra8p0\\localcache\\local-packages\\python311\\site-packages (from transformers<4.31.0,>=3.4.0->spacy-transformers) (0.3.3)\n",
      "Requirement already satisfied: fsspec in c:\\users\\newzn\\appdata\\local\\packages\\pythonsoftwarefoundation.python.3.11_qbz5n2kfra8p0\\localcache\\local-packages\\python311\\site-packages (from huggingface-hub<1.0,>=0.14.1->transformers<4.31.0,>=3.4.0->spacy-transformers) (2023.9.1)\n",
      "Requirement already satisfied: annotated-types>=0.4.0 in c:\\users\\newzn\\appdata\\local\\packages\\pythonsoftwarefoundation.python.3.11_qbz5n2kfra8p0\\localcache\\local-packages\\python311\\site-packages (from pydantic!=1.8,!=1.8.1,<3.0.0,>=1.7.4->spacy<4.0.0,>=3.5.0->spacy-transformers) (0.5.0)\n",
      "Requirement already satisfied: pydantic-core==2.6.3 in c:\\users\\newzn\\appdata\\local\\packages\\pythonsoftwarefoundation.python.3.11_qbz5n2kfra8p0\\localcache\\local-packages\\python311\\site-packages (from pydantic!=1.8,!=1.8.1,<3.0.0,>=1.7.4->spacy<4.0.0,>=3.5.0->spacy-transformers) (2.6.3)\n",
      "Requirement already satisfied: charset-normalizer<4,>=2 in c:\\users\\newzn\\appdata\\local\\packages\\pythonsoftwarefoundation.python.3.11_qbz5n2kfra8p0\\localcache\\local-packages\\python311\\site-packages (from requests<3.0.0,>=2.13.0->spacy<4.0.0,>=3.5.0->spacy-transformers) (3.2.0)\n",
      "Requirement already satisfied: idna<4,>=2.5 in c:\\users\\newzn\\appdata\\local\\packages\\pythonsoftwarefoundation.python.3.11_qbz5n2kfra8p0\\localcache\\local-packages\\python311\\site-packages (from requests<3.0.0,>=2.13.0->spacy<4.0.0,>=3.5.0->spacy-transformers) (3.4)\n",
      "Requirement already satisfied: urllib3<3,>=1.21.1 in c:\\users\\newzn\\appdata\\local\\packages\\pythonsoftwarefoundation.python.3.11_qbz5n2kfra8p0\\localcache\\local-packages\\python311\\site-packages (from requests<3.0.0,>=2.13.0->spacy<4.0.0,>=3.5.0->spacy-transformers) (2.0.4)\n",
      "Requirement already satisfied: certifi>=2017.4.17 in c:\\users\\newzn\\appdata\\local\\packages\\pythonsoftwarefoundation.python.3.11_qbz5n2kfra8p0\\localcache\\local-packages\\python311\\site-packages (from requests<3.0.0,>=2.13.0->spacy<4.0.0,>=3.5.0->spacy-transformers) (2023.7.22)\n",
      "Requirement already satisfied: blis<0.8.0,>=0.7.8 in c:\\users\\newzn\\appdata\\local\\packages\\pythonsoftwarefoundation.python.3.11_qbz5n2kfra8p0\\localcache\\local-packages\\python311\\site-packages (from thinc<8.2.0,>=8.1.8->spacy<4.0.0,>=3.5.0->spacy-transformers) (0.7.11)\n",
      "Requirement already satisfied: confection<1.0.0,>=0.0.1 in c:\\users\\newzn\\appdata\\local\\packages\\pythonsoftwarefoundation.python.3.11_qbz5n2kfra8p0\\localcache\\local-packages\\python311\\site-packages (from thinc<8.2.0,>=8.1.8->spacy<4.0.0,>=3.5.0->spacy-transformers) (0.1.3)\n",
      "Requirement already satisfied: colorama in c:\\users\\newzn\\appdata\\local\\packages\\pythonsoftwarefoundation.python.3.11_qbz5n2kfra8p0\\localcache\\local-packages\\python311\\site-packages (from tqdm<5.0.0,>=4.38.0->spacy<4.0.0,>=3.5.0->spacy-transformers) (0.4.6)\n",
      "Requirement already satisfied: click<9.0.0,>=7.1.1 in c:\\users\\newzn\\appdata\\local\\packages\\pythonsoftwarefoundation.python.3.11_qbz5n2kfra8p0\\localcache\\local-packages\\python311\\site-packages (from typer<0.10.0,>=0.3.0->spacy<4.0.0,>=3.5.0->spacy-transformers) (8.1.7)\n",
      "Requirement already satisfied: MarkupSafe>=2.0 in c:\\users\\newzn\\appdata\\local\\packages\\pythonsoftwarefoundation.python.3.11_qbz5n2kfra8p0\\localcache\\local-packages\\python311\\site-packages (from jinja2->spacy<4.0.0,>=3.5.0->spacy-transformers) (2.1.3)\n",
      "Requirement already satisfied: mpmath>=0.19 in c:\\users\\newzn\\appdata\\local\\packages\\pythonsoftwarefoundation.python.3.11_qbz5n2kfra8p0\\localcache\\local-packages\\python311\\site-packages (from sympy->torch>=1.8.0->spacy-transformers) (1.3.0)\n",
      "Requirement already satisfied: spacytextblob in c:\\users\\newzn\\appdata\\local\\packages\\pythonsoftwarefoundation.python.3.11_qbz5n2kfra8p0\\localcache\\local-packages\\python311\\site-packages (4.0.0)\n",
      "Requirement already satisfied: spacy<4.0,>=3.0 in c:\\users\\newzn\\appdata\\local\\packages\\pythonsoftwarefoundation.python.3.11_qbz5n2kfra8p0\\localcache\\local-packages\\python311\\site-packages (from spacytextblob) (3.6.1)\n",
      "Requirement already satisfied: textblob<0.16.0,>=0.15.3 in c:\\users\\newzn\\appdata\\local\\packages\\pythonsoftwarefoundation.python.3.11_qbz5n2kfra8p0\\localcache\\local-packages\\python311\\site-packages (from spacytextblob) (0.15.3)\n",
      "Requirement already satisfied: spacy-legacy<3.1.0,>=3.0.11 in c:\\users\\newzn\\appdata\\local\\packages\\pythonsoftwarefoundation.python.3.11_qbz5n2kfra8p0\\localcache\\local-packages\\python311\\site-packages (from spacy<4.0,>=3.0->spacytextblob) (3.0.12)\n",
      "Requirement already satisfied: spacy-loggers<2.0.0,>=1.0.0 in c:\\users\\newzn\\appdata\\local\\packages\\pythonsoftwarefoundation.python.3.11_qbz5n2kfra8p0\\localcache\\local-packages\\python311\\site-packages (from spacy<4.0,>=3.0->spacytextblob) (1.0.5)\n",
      "Requirement already satisfied: murmurhash<1.1.0,>=0.28.0 in c:\\users\\newzn\\appdata\\local\\packages\\pythonsoftwarefoundation.python.3.11_qbz5n2kfra8p0\\localcache\\local-packages\\python311\\site-packages (from spacy<4.0,>=3.0->spacytextblob) (1.0.10)\n",
      "Requirement already satisfied: cymem<2.1.0,>=2.0.2 in c:\\users\\newzn\\appdata\\local\\packages\\pythonsoftwarefoundation.python.3.11_qbz5n2kfra8p0\\localcache\\local-packages\\python311\\site-packages (from spacy<4.0,>=3.0->spacytextblob) (2.0.8)\n",
      "Requirement already satisfied: preshed<3.1.0,>=3.0.2 in c:\\users\\newzn\\appdata\\local\\packages\\pythonsoftwarefoundation.python.3.11_qbz5n2kfra8p0\\localcache\\local-packages\\python311\\site-packages (from spacy<4.0,>=3.0->spacytextblob) (3.0.9)\n",
      "Requirement already satisfied: thinc<8.2.0,>=8.1.8 in c:\\users\\newzn\\appdata\\local\\packages\\pythonsoftwarefoundation.python.3.11_qbz5n2kfra8p0\\localcache\\local-packages\\python311\\site-packages (from spacy<4.0,>=3.0->spacytextblob) (8.1.12)\n",
      "Requirement already satisfied: wasabi<1.2.0,>=0.9.1 in c:\\users\\newzn\\appdata\\local\\packages\\pythonsoftwarefoundation.python.3.11_qbz5n2kfra8p0\\localcache\\local-packages\\python311\\site-packages (from spacy<4.0,>=3.0->spacytextblob) (1.1.2)\n",
      "Requirement already satisfied: srsly<3.0.0,>=2.4.3 in c:\\users\\newzn\\appdata\\local\\packages\\pythonsoftwarefoundation.python.3.11_qbz5n2kfra8p0\\localcache\\local-packages\\python311\\site-packages (from spacy<4.0,>=3.0->spacytextblob) (2.4.8)\n",
      "Requirement already satisfied: catalogue<2.1.0,>=2.0.6 in c:\\users\\newzn\\appdata\\local\\packages\\pythonsoftwarefoundation.python.3.11_qbz5n2kfra8p0\\localcache\\local-packages\\python311\\site-packages (from spacy<4.0,>=3.0->spacytextblob) (2.0.9)\n",
      "Requirement already satisfied: typer<0.10.0,>=0.3.0 in c:\\users\\newzn\\appdata\\local\\packages\\pythonsoftwarefoundation.python.3.11_qbz5n2kfra8p0\\localcache\\local-packages\\python311\\site-packages (from spacy<4.0,>=3.0->spacytextblob) (0.9.0)\n",
      "Requirement already satisfied: pathy>=0.10.0 in c:\\users\\newzn\\appdata\\local\\packages\\pythonsoftwarefoundation.python.3.11_qbz5n2kfra8p0\\localcache\\local-packages\\python311\\site-packages (from spacy<4.0,>=3.0->spacytextblob) (0.10.2)\n",
      "Requirement already satisfied: smart-open<7.0.0,>=5.2.1 in c:\\users\\newzn\\appdata\\local\\packages\\pythonsoftwarefoundation.python.3.11_qbz5n2kfra8p0\\localcache\\local-packages\\python311\\site-packages (from spacy<4.0,>=3.0->spacytextblob) (6.4.0)\n",
      "Requirement already satisfied: tqdm<5.0.0,>=4.38.0 in c:\\users\\newzn\\appdata\\local\\packages\\pythonsoftwarefoundation.python.3.11_qbz5n2kfra8p0\\localcache\\local-packages\\python311\\site-packages (from spacy<4.0,>=3.0->spacytextblob) (4.66.1)\n",
      "Requirement already satisfied: numpy>=1.15.0 in c:\\users\\newzn\\appdata\\local\\packages\\pythonsoftwarefoundation.python.3.11_qbz5n2kfra8p0\\localcache\\local-packages\\python311\\site-packages (from spacy<4.0,>=3.0->spacytextblob) (1.25.2)\n",
      "Requirement already satisfied: requests<3.0.0,>=2.13.0 in c:\\users\\newzn\\appdata\\local\\packages\\pythonsoftwarefoundation.python.3.11_qbz5n2kfra8p0\\localcache\\local-packages\\python311\\site-packages (from spacy<4.0,>=3.0->spacytextblob) (2.31.0)\n",
      "Requirement already satisfied: pydantic!=1.8,!=1.8.1,<3.0.0,>=1.7.4 in c:\\users\\newzn\\appdata\\local\\packages\\pythonsoftwarefoundation.python.3.11_qbz5n2kfra8p0\\localcache\\local-packages\\python311\\site-packages (from spacy<4.0,>=3.0->spacytextblob) (2.3.0)\n",
      "Requirement already satisfied: jinja2 in c:\\users\\newzn\\appdata\\local\\packages\\pythonsoftwarefoundation.python.3.11_qbz5n2kfra8p0\\localcache\\local-packages\\python311\\site-packages (from spacy<4.0,>=3.0->spacytextblob) (3.1.2)\n",
      "Requirement already satisfied: setuptools in c:\\program files\\windowsapps\\pythonsoftwarefoundation.python.3.11_3.11.1520.0_x64__qbz5n2kfra8p0\\lib\\site-packages (from spacy<4.0,>=3.0->spacytextblob) (65.5.0)\n",
      "Requirement already satisfied: packaging>=20.0 in c:\\users\\newzn\\appdata\\local\\packages\\pythonsoftwarefoundation.python.3.11_qbz5n2kfra8p0\\localcache\\local-packages\\python311\\site-packages (from spacy<4.0,>=3.0->spacytextblob) (23.1)\n",
      "Requirement already satisfied: langcodes<4.0.0,>=3.2.0 in c:\\users\\newzn\\appdata\\local\\packages\\pythonsoftwarefoundation.python.3.11_qbz5n2kfra8p0\\localcache\\local-packages\\python311\\site-packages (from spacy<4.0,>=3.0->spacytextblob) (3.3.0)\n",
      "Requirement already satisfied: nltk>=3.1 in c:\\users\\newzn\\appdata\\local\\packages\\pythonsoftwarefoundation.python.3.11_qbz5n2kfra8p0\\localcache\\local-packages\\python311\\site-packages (from textblob<0.16.0,>=0.15.3->spacytextblob) (3.8.1)\n",
      "Requirement already satisfied: click in c:\\users\\newzn\\appdata\\local\\packages\\pythonsoftwarefoundation.python.3.11_qbz5n2kfra8p0\\localcache\\local-packages\\python311\\site-packages (from nltk>=3.1->textblob<0.16.0,>=0.15.3->spacytextblob) (8.1.7)\n",
      "Requirement already satisfied: joblib in c:\\users\\newzn\\appdata\\local\\packages\\pythonsoftwarefoundation.python.3.11_qbz5n2kfra8p0\\localcache\\local-packages\\python311\\site-packages (from nltk>=3.1->textblob<0.16.0,>=0.15.3->spacytextblob) (1.3.2)\n",
      "Requirement already satisfied: regex>=2021.8.3 in c:\\users\\newzn\\appdata\\local\\packages\\pythonsoftwarefoundation.python.3.11_qbz5n2kfra8p0\\localcache\\local-packages\\python311\\site-packages (from nltk>=3.1->textblob<0.16.0,>=0.15.3->spacytextblob) (2023.8.8)\n",
      "Requirement already satisfied: annotated-types>=0.4.0 in c:\\users\\newzn\\appdata\\local\\packages\\pythonsoftwarefoundation.python.3.11_qbz5n2kfra8p0\\localcache\\local-packages\\python311\\site-packages (from pydantic!=1.8,!=1.8.1,<3.0.0,>=1.7.4->spacy<4.0,>=3.0->spacytextblob) (0.5.0)\n",
      "Requirement already satisfied: pydantic-core==2.6.3 in c:\\users\\newzn\\appdata\\local\\packages\\pythonsoftwarefoundation.python.3.11_qbz5n2kfra8p0\\localcache\\local-packages\\python311\\site-packages (from pydantic!=1.8,!=1.8.1,<3.0.0,>=1.7.4->spacy<4.0,>=3.0->spacytextblob) (2.6.3)\n",
      "Requirement already satisfied: typing-extensions>=4.6.1 in c:\\users\\newzn\\appdata\\local\\packages\\pythonsoftwarefoundation.python.3.11_qbz5n2kfra8p0\\localcache\\local-packages\\python311\\site-packages (from pydantic!=1.8,!=1.8.1,<3.0.0,>=1.7.4->spacy<4.0,>=3.0->spacytextblob) (4.7.1)\n",
      "Requirement already satisfied: charset-normalizer<4,>=2 in c:\\users\\newzn\\appdata\\local\\packages\\pythonsoftwarefoundation.python.3.11_qbz5n2kfra8p0\\localcache\\local-packages\\python311\\site-packages (from requests<3.0.0,>=2.13.0->spacy<4.0,>=3.0->spacytextblob) (3.2.0)\n",
      "Requirement already satisfied: idna<4,>=2.5 in c:\\users\\newzn\\appdata\\local\\packages\\pythonsoftwarefoundation.python.3.11_qbz5n2kfra8p0\\localcache\\local-packages\\python311\\site-packages (from requests<3.0.0,>=2.13.0->spacy<4.0,>=3.0->spacytextblob) (3.4)\n",
      "Requirement already satisfied: urllib3<3,>=1.21.1 in c:\\users\\newzn\\appdata\\local\\packages\\pythonsoftwarefoundation.python.3.11_qbz5n2kfra8p0\\localcache\\local-packages\\python311\\site-packages (from requests<3.0.0,>=2.13.0->spacy<4.0,>=3.0->spacytextblob) (2.0.4)\n",
      "Requirement already satisfied: certifi>=2017.4.17 in c:\\users\\newzn\\appdata\\local\\packages\\pythonsoftwarefoundation.python.3.11_qbz5n2kfra8p0\\localcache\\local-packages\\python311\\site-packages (from requests<3.0.0,>=2.13.0->spacy<4.0,>=3.0->spacytextblob) (2023.7.22)\n",
      "Requirement already satisfied: blis<0.8.0,>=0.7.8 in c:\\users\\newzn\\appdata\\local\\packages\\pythonsoftwarefoundation.python.3.11_qbz5n2kfra8p0\\localcache\\local-packages\\python311\\site-packages (from thinc<8.2.0,>=8.1.8->spacy<4.0,>=3.0->spacytextblob) (0.7.11)\n",
      "Requirement already satisfied: confection<1.0.0,>=0.0.1 in c:\\users\\newzn\\appdata\\local\\packages\\pythonsoftwarefoundation.python.3.11_qbz5n2kfra8p0\\localcache\\local-packages\\python311\\site-packages (from thinc<8.2.0,>=8.1.8->spacy<4.0,>=3.0->spacytextblob) (0.1.3)\n",
      "Requirement already satisfied: colorama in c:\\users\\newzn\\appdata\\local\\packages\\pythonsoftwarefoundation.python.3.11_qbz5n2kfra8p0\\localcache\\local-packages\\python311\\site-packages (from tqdm<5.0.0,>=4.38.0->spacy<4.0,>=3.0->spacytextblob) (0.4.6)\n",
      "Requirement already satisfied: MarkupSafe>=2.0 in c:\\users\\newzn\\appdata\\local\\packages\\pythonsoftwarefoundation.python.3.11_qbz5n2kfra8p0\\localcache\\local-packages\\python311\\site-packages (from jinja2->spacy<4.0,>=3.0->spacytextblob) (2.1.3)\n"
     ]
    }
   ],
   "source": [
    "!pip install spacy\n",
    "!python -m spacy download en_core_web_sm\n",
    "!pip install spacy-transformers\n",
    "!pip install spacytextblob\n",
    "import numpy as np\n",
    "from statistics import mean\n",
    "import pandas as pd\n",
    "import spacy\n",
    "from spacytextblob.spacytextblob import SpacyTextBlob"
   ]
  },
  {
   "cell_type": "code",
   "execution_count": 27,
   "id": "71767246-4433-48af-9c93-6b9f27d95e0f",
   "metadata": {},
   "outputs": [
    {
     "name": "stderr",
     "output_type": "stream",
     "text": [
      "C:\\Users\\newzn\\AppData\\Local\\Temp\\ipykernel_6104\\2939487182.py:1: DtypeWarning: Columns (4,5,6,7,8,9,10,11,12,13,14,15,16,17,18,19,20,21,22,23,24,25,26,27,28,29,30,31,32,33,34,35,36,37,38,39,40,41,42,43,44,45,46,47,48,49,50,51,52,53,54,55,56,57,58,59,60,61,62,63,64,65,66,67,68,69,70,71,72,73,74,75,76,77,78,79,80,81,82,83,84,85,86,87,88,89,90,91,92,93,94,95,96,97,98,99,100,101,102,103,104,105,106,107,108,109,110,111,112,113,114,115) have mixed types. Specify dtype option on import or set low_memory=False.\n",
      "  aapl_df = pd.read_csv('data/AAPL_data.csv').set_index('Date')\n"
     ]
    }
   ],
   "source": [
    "aapl_df = pd.read_csv('data/AAPL_data.csv').set_index('Date')"
   ]
  },
  {
   "cell_type": "code",
   "execution_count": 28,
   "id": "2d1e8b4f-aeac-4274-abb2-96228bd3ea2b",
   "metadata": {},
   "outputs": [],
   "source": [
    "aapl_df = aapl_df.loc['2021-01-05':]"
   ]
  },
  {
   "cell_type": "code",
   "execution_count": 29,
   "id": "f9700747-f530-4efc-99af-bc24104495e8",
   "metadata": {},
   "outputs": [
    {
     "data": {
      "text/html": [
       "<div>\n",
       "<style scoped>\n",
       "    .dataframe tbody tr th:only-of-type {\n",
       "        vertical-align: middle;\n",
       "    }\n",
       "\n",
       "    .dataframe tbody tr th {\n",
       "        vertical-align: top;\n",
       "    }\n",
       "\n",
       "    .dataframe thead th {\n",
       "        text-align: right;\n",
       "    }\n",
       "</style>\n",
       "<table border=\"1\" class=\"dataframe\">\n",
       "  <thead>\n",
       "    <tr style=\"text-align: right;\">\n",
       "      <th></th>\n",
       "      <th>Ticker</th>\n",
       "      <th>Traiding_result</th>\n",
       "      <th>Volume</th>\n",
       "      <th>news_1</th>\n",
       "      <th>news_2</th>\n",
       "      <th>news_3</th>\n",
       "      <th>news_4</th>\n",
       "      <th>news_5</th>\n",
       "      <th>news_6</th>\n",
       "      <th>news_7</th>\n",
       "      <th>...</th>\n",
       "      <th>news_103</th>\n",
       "      <th>news_104</th>\n",
       "      <th>news_105</th>\n",
       "      <th>news_106</th>\n",
       "      <th>news_107</th>\n",
       "      <th>news_108</th>\n",
       "      <th>news_109</th>\n",
       "      <th>news_110</th>\n",
       "      <th>news_111</th>\n",
       "      <th>news_112</th>\n",
       "    </tr>\n",
       "    <tr>\n",
       "      <th>Date</th>\n",
       "      <th></th>\n",
       "      <th></th>\n",
       "      <th></th>\n",
       "      <th></th>\n",
       "      <th></th>\n",
       "      <th></th>\n",
       "      <th></th>\n",
       "      <th></th>\n",
       "      <th></th>\n",
       "      <th></th>\n",
       "      <th></th>\n",
       "      <th></th>\n",
       "      <th></th>\n",
       "      <th></th>\n",
       "      <th></th>\n",
       "      <th></th>\n",
       "      <th></th>\n",
       "      <th></th>\n",
       "      <th></th>\n",
       "      <th></th>\n",
       "      <th></th>\n",
       "    </tr>\n",
       "  </thead>\n",
       "  <tbody>\n",
       "    <tr>\n",
       "      <th>2021-01-05</th>\n",
       "      <td>AAPL</td>\n",
       "      <td>1</td>\n",
       "      <td>97664900</td>\n",
       "      <td>(Bloomberg Opinion) -- For signs of how China’...</td>\n",
       "      <td>The Dow Jones closed higher in today's stock m...</td>\n",
       "      <td>Aeva co-founder and CEO Soroush Salehian — who...</td>\n",
       "      <td>New York, Jan.  05, 2021  (GLOBE NEWSWIRE) -- ...</td>\n",
       "      <td>(Bloomberg) -- IPhone suppliers are racing to ...</td>\n",
       "      <td>NaN</td>\n",
       "      <td>NaN</td>\n",
       "      <td>...</td>\n",
       "      <td>NaN</td>\n",
       "      <td>NaN</td>\n",
       "      <td>NaN</td>\n",
       "      <td>NaN</td>\n",
       "      <td>NaN</td>\n",
       "      <td>NaN</td>\n",
       "      <td>NaN</td>\n",
       "      <td>NaN</td>\n",
       "      <td>NaN</td>\n",
       "      <td>NaN</td>\n",
       "    </tr>\n",
       "    <tr>\n",
       "      <th>2021-01-06</th>\n",
       "      <td>AAPL</td>\n",
       "      <td>0</td>\n",
       "      <td>155088000</td>\n",
       "      <td>Veteran rock star Neil Young has sold half the...</td>\n",
       "      <td>NEW YORK, Jan.  06, 2021  (GLOBE NEWSWIRE) -- ...</td>\n",
       "      <td>NaN</td>\n",
       "      <td>NaN</td>\n",
       "      <td>NaN</td>\n",
       "      <td>NaN</td>\n",
       "      <td>NaN</td>\n",
       "      <td>...</td>\n",
       "      <td>NaN</td>\n",
       "      <td>NaN</td>\n",
       "      <td>NaN</td>\n",
       "      <td>NaN</td>\n",
       "      <td>NaN</td>\n",
       "      <td>NaN</td>\n",
       "      <td>NaN</td>\n",
       "      <td>NaN</td>\n",
       "      <td>NaN</td>\n",
       "      <td>NaN</td>\n",
       "    </tr>\n",
       "    <tr>\n",
       "      <th>2021-01-07</th>\n",
       "      <td>AAPL</td>\n",
       "      <td>1</td>\n",
       "      <td>109578200</td>\n",
       "      <td>By Gina Lee\\n\\nInvesting.com – Asia Pacific st...</td>\n",
       "      <td>Futures rose. Congress certified Joe Biden's w...</td>\n",
       "      <td>NaN</td>\n",
       "      <td>NaN</td>\n",
       "      <td>NaN</td>\n",
       "      <td>NaN</td>\n",
       "      <td>NaN</td>\n",
       "      <td>...</td>\n",
       "      <td>NaN</td>\n",
       "      <td>NaN</td>\n",
       "      <td>NaN</td>\n",
       "      <td>NaN</td>\n",
       "      <td>NaN</td>\n",
       "      <td>NaN</td>\n",
       "      <td>NaN</td>\n",
       "      <td>NaN</td>\n",
       "      <td>NaN</td>\n",
       "      <td>NaN</td>\n",
       "    </tr>\n",
       "    <tr>\n",
       "      <th>2021-01-08</th>\n",
       "      <td>AAPL</td>\n",
       "      <td>0</td>\n",
       "      <td>105158200</td>\n",
       "      <td>In 2020, special purpose acquisition companies...</td>\n",
       "      <td>The best mutual funds bet on tech stocks like ...</td>\n",
       "      <td>(Bloomberg) -- Hyundai Motor Co. backed away f...</td>\n",
       "      <td>(Bloomberg) -- Taiwan Semiconductor Manufactur...</td>\n",
       "      <td>(Bloomberg) --\\n\\nBaidu Inc. and Geely Automob...</td>\n",
       "      <td>NaN</td>\n",
       "      <td>NaN</td>\n",
       "      <td>...</td>\n",
       "      <td>NaN</td>\n",
       "      <td>NaN</td>\n",
       "      <td>NaN</td>\n",
       "      <td>NaN</td>\n",
       "      <td>NaN</td>\n",
       "      <td>NaN</td>\n",
       "      <td>NaN</td>\n",
       "      <td>NaN</td>\n",
       "      <td>NaN</td>\n",
       "      <td>NaN</td>\n",
       "    </tr>\n",
       "    <tr>\n",
       "      <th>2021-01-11</th>\n",
       "      <td>AAPL</td>\n",
       "      <td>0</td>\n",
       "      <td>100384500</td>\n",
       "      <td>NaN</td>\n",
       "      <td>NaN</td>\n",
       "      <td>NaN</td>\n",
       "      <td>NaN</td>\n",
       "      <td>NaN</td>\n",
       "      <td>NaN</td>\n",
       "      <td>NaN</td>\n",
       "      <td>...</td>\n",
       "      <td>NaN</td>\n",
       "      <td>NaN</td>\n",
       "      <td>NaN</td>\n",
       "      <td>NaN</td>\n",
       "      <td>NaN</td>\n",
       "      <td>NaN</td>\n",
       "      <td>NaN</td>\n",
       "      <td>NaN</td>\n",
       "      <td>NaN</td>\n",
       "      <td>NaN</td>\n",
       "    </tr>\n",
       "    <tr>\n",
       "      <th>...</th>\n",
       "      <td>...</td>\n",
       "      <td>...</td>\n",
       "      <td>...</td>\n",
       "      <td>...</td>\n",
       "      <td>...</td>\n",
       "      <td>...</td>\n",
       "      <td>...</td>\n",
       "      <td>...</td>\n",
       "      <td>...</td>\n",
       "      <td>...</td>\n",
       "      <td>...</td>\n",
       "      <td>...</td>\n",
       "      <td>...</td>\n",
       "      <td>...</td>\n",
       "      <td>...</td>\n",
       "      <td>...</td>\n",
       "      <td>...</td>\n",
       "      <td>...</td>\n",
       "      <td>...</td>\n",
       "      <td>...</td>\n",
       "      <td>...</td>\n",
       "    </tr>\n",
       "    <tr>\n",
       "      <th>2023-09-11</th>\n",
       "      <td>AAPL</td>\n",
       "      <td>0</td>\n",
       "      <td>58953100</td>\n",
       "      <td>Apple is expected to take the wraps off its ne...</td>\n",
       "      <td>Apple's \"Wonderlust\" event today will be broad...</td>\n",
       "      <td>(Bloomberg) -- Asian stocks look set for a mix...</td>\n",
       "      <td>After months of bad news, Apple is finally rea...</td>\n",
       "      <td>The renewal of Apple AAPL and Qualcomm’s QCOM ...</td>\n",
       "      <td>Yahoo Finance Live co-host Seana Smith looks a...</td>\n",
       "      <td>Dow Jones futures: Tesla stock broke out past ...</td>\n",
       "      <td>...</td>\n",
       "      <td>NaN</td>\n",
       "      <td>NaN</td>\n",
       "      <td>NaN</td>\n",
       "      <td>NaN</td>\n",
       "      <td>NaN</td>\n",
       "      <td>NaN</td>\n",
       "      <td>NaN</td>\n",
       "      <td>NaN</td>\n",
       "      <td>NaN</td>\n",
       "      <td>NaN</td>\n",
       "    </tr>\n",
       "    <tr>\n",
       "      <th>2023-09-12</th>\n",
       "      <td>AAPL</td>\n",
       "      <td>0</td>\n",
       "      <td>90370200</td>\n",
       "      <td>Apple and Android users finally have some comm...</td>\n",
       "      <td>The company unveiled a new iPhone lineup aimed...</td>\n",
       "      <td>Investing.com-- Most Asian stocks moved in a f...</td>\n",
       "      <td>Apple said Tuesday that it will put out the Se...</td>\n",
       "      <td>Lost in the hoopla over new iPone models is Ap...</td>\n",
       "      <td>(Bloomberg) -- In the first hands-on testing o...</td>\n",
       "      <td>As we saw in pre-market trading this morning, ...</td>\n",
       "      <td>...</td>\n",
       "      <td>NaN</td>\n",
       "      <td>NaN</td>\n",
       "      <td>NaN</td>\n",
       "      <td>NaN</td>\n",
       "      <td>NaN</td>\n",
       "      <td>NaN</td>\n",
       "      <td>NaN</td>\n",
       "      <td>NaN</td>\n",
       "      <td>NaN</td>\n",
       "      <td>NaN</td>\n",
       "    </tr>\n",
       "    <tr>\n",
       "      <th>2023-09-13</th>\n",
       "      <td>AAPL</td>\n",
       "      <td>0</td>\n",
       "      <td>84267900</td>\n",
       "      <td>Apple’s (AAPL) iPhone 15 and iPhone 15 Pro lin...</td>\n",
       "      <td>In this article, we will talk about the 25 big...</td>\n",
       "      <td>Apple AAPL, which needs little introduction, r...</td>\n",
       "      <td>(Bloomberg) -- The White House said it believe...</td>\n",
       "      <td>American Airlines slashes guidance, Moderna re...</td>\n",
       "      <td>Apple's iPhone 15 debut might have been a yawn...</td>\n",
       "      <td>It's been six years since major changes to the...</td>\n",
       "      <td>...</td>\n",
       "      <td>NaN</td>\n",
       "      <td>NaN</td>\n",
       "      <td>NaN</td>\n",
       "      <td>NaN</td>\n",
       "      <td>NaN</td>\n",
       "      <td>NaN</td>\n",
       "      <td>NaN</td>\n",
       "      <td>NaN</td>\n",
       "      <td>NaN</td>\n",
       "      <td>NaN</td>\n",
       "    </tr>\n",
       "    <tr>\n",
       "      <th>2023-09-14</th>\n",
       "      <td>AAPL</td>\n",
       "      <td>1</td>\n",
       "      <td>60895800</td>\n",
       "      <td>A strong dollar is great if you're traveling a...</td>\n",
       "      <td>(Bloomberg) -- Apple Inc., facing a controvers...</td>\n",
       "      <td>Investing.com-- Shares of Japanese tech conglo...</td>\n",
       "      <td>In the latest trading session, Apple (AAPL) cl...</td>\n",
       "      <td>Auto workers are counting the minutes to tonig...</td>\n",
       "      <td>In this piece, we will take a look at the 12 b...</td>\n",
       "      <td>Megacaps have been dominating this year. Yahoo...</td>\n",
       "      <td>...</td>\n",
       "      <td>NaN</td>\n",
       "      <td>NaN</td>\n",
       "      <td>NaN</td>\n",
       "      <td>NaN</td>\n",
       "      <td>NaN</td>\n",
       "      <td>NaN</td>\n",
       "      <td>NaN</td>\n",
       "      <td>NaN</td>\n",
       "      <td>NaN</td>\n",
       "      <td>NaN</td>\n",
       "    </tr>\n",
       "    <tr>\n",
       "      <th>2023-09-15</th>\n",
       "      <td>AAPL</td>\n",
       "      <td>0</td>\n",
       "      <td>109205100</td>\n",
       "      <td>In this piece, we will take a look at the 12 b...</td>\n",
       "      <td>In this piece, we will take a look at the 12 b...</td>\n",
       "      <td>Decision follows spat with country’s regulator...</td>\n",
       "      <td>FRANKFURT (Reuters) - Germany's telecom networ...</td>\n",
       "      <td>PARIS (AP) — Apple has agreed to install updat...</td>\n",
       "      <td>Nvidia is ideally positioned to benefit from t...</td>\n",
       "      <td>Foxconn Technology Group, one of Apple's bigge...</td>\n",
       "      <td>...</td>\n",
       "      <td>NaN</td>\n",
       "      <td>NaN</td>\n",
       "      <td>NaN</td>\n",
       "      <td>NaN</td>\n",
       "      <td>NaN</td>\n",
       "      <td>NaN</td>\n",
       "      <td>NaN</td>\n",
       "      <td>NaN</td>\n",
       "      <td>NaN</td>\n",
       "      <td>NaN</td>\n",
       "    </tr>\n",
       "  </tbody>\n",
       "</table>\n",
       "<p>679 rows × 115 columns</p>\n",
       "</div>"
      ],
      "text/plain": [
       "           Ticker  Traiding_result     Volume  \\\n",
       "Date                                            \n",
       "2021-01-05   AAPL                1   97664900   \n",
       "2021-01-06   AAPL                0  155088000   \n",
       "2021-01-07   AAPL                1  109578200   \n",
       "2021-01-08   AAPL                0  105158200   \n",
       "2021-01-11   AAPL                0  100384500   \n",
       "...           ...              ...        ...   \n",
       "2023-09-11   AAPL                0   58953100   \n",
       "2023-09-12   AAPL                0   90370200   \n",
       "2023-09-13   AAPL                0   84267900   \n",
       "2023-09-14   AAPL                1   60895800   \n",
       "2023-09-15   AAPL                0  109205100   \n",
       "\n",
       "                                                       news_1  \\\n",
       "Date                                                            \n",
       "2021-01-05  (Bloomberg Opinion) -- For signs of how China’...   \n",
       "2021-01-06  Veteran rock star Neil Young has sold half the...   \n",
       "2021-01-07  By Gina Lee\\n\\nInvesting.com – Asia Pacific st...   \n",
       "2021-01-08  In 2020, special purpose acquisition companies...   \n",
       "2021-01-11                                                NaN   \n",
       "...                                                       ...   \n",
       "2023-09-11  Apple is expected to take the wraps off its ne...   \n",
       "2023-09-12  Apple and Android users finally have some comm...   \n",
       "2023-09-13  Apple’s (AAPL) iPhone 15 and iPhone 15 Pro lin...   \n",
       "2023-09-14  A strong dollar is great if you're traveling a...   \n",
       "2023-09-15  In this piece, we will take a look at the 12 b...   \n",
       "\n",
       "                                                       news_2  \\\n",
       "Date                                                            \n",
       "2021-01-05  The Dow Jones closed higher in today's stock m...   \n",
       "2021-01-06  NEW YORK, Jan.  06, 2021  (GLOBE NEWSWIRE) -- ...   \n",
       "2021-01-07  Futures rose. Congress certified Joe Biden's w...   \n",
       "2021-01-08  The best mutual funds bet on tech stocks like ...   \n",
       "2021-01-11                                                NaN   \n",
       "...                                                       ...   \n",
       "2023-09-11  Apple's \"Wonderlust\" event today will be broad...   \n",
       "2023-09-12  The company unveiled a new iPhone lineup aimed...   \n",
       "2023-09-13  In this article, we will talk about the 25 big...   \n",
       "2023-09-14  (Bloomberg) -- Apple Inc., facing a controvers...   \n",
       "2023-09-15  In this piece, we will take a look at the 12 b...   \n",
       "\n",
       "                                                       news_3  \\\n",
       "Date                                                            \n",
       "2021-01-05  Aeva co-founder and CEO Soroush Salehian — who...   \n",
       "2021-01-06                                                NaN   \n",
       "2021-01-07                                                NaN   \n",
       "2021-01-08  (Bloomberg) -- Hyundai Motor Co. backed away f...   \n",
       "2021-01-11                                                NaN   \n",
       "...                                                       ...   \n",
       "2023-09-11  (Bloomberg) -- Asian stocks look set for a mix...   \n",
       "2023-09-12  Investing.com-- Most Asian stocks moved in a f...   \n",
       "2023-09-13  Apple AAPL, which needs little introduction, r...   \n",
       "2023-09-14  Investing.com-- Shares of Japanese tech conglo...   \n",
       "2023-09-15  Decision follows spat with country’s regulator...   \n",
       "\n",
       "                                                       news_4  \\\n",
       "Date                                                            \n",
       "2021-01-05  New York, Jan.  05, 2021  (GLOBE NEWSWIRE) -- ...   \n",
       "2021-01-06                                                NaN   \n",
       "2021-01-07                                                NaN   \n",
       "2021-01-08  (Bloomberg) -- Taiwan Semiconductor Manufactur...   \n",
       "2021-01-11                                                NaN   \n",
       "...                                                       ...   \n",
       "2023-09-11  After months of bad news, Apple is finally rea...   \n",
       "2023-09-12  Apple said Tuesday that it will put out the Se...   \n",
       "2023-09-13  (Bloomberg) -- The White House said it believe...   \n",
       "2023-09-14  In the latest trading session, Apple (AAPL) cl...   \n",
       "2023-09-15  FRANKFURT (Reuters) - Germany's telecom networ...   \n",
       "\n",
       "                                                       news_5  \\\n",
       "Date                                                            \n",
       "2021-01-05  (Bloomberg) -- IPhone suppliers are racing to ...   \n",
       "2021-01-06                                                NaN   \n",
       "2021-01-07                                                NaN   \n",
       "2021-01-08  (Bloomberg) --\\n\\nBaidu Inc. and Geely Automob...   \n",
       "2021-01-11                                                NaN   \n",
       "...                                                       ...   \n",
       "2023-09-11  The renewal of Apple AAPL and Qualcomm’s QCOM ...   \n",
       "2023-09-12  Lost in the hoopla over new iPone models is Ap...   \n",
       "2023-09-13  American Airlines slashes guidance, Moderna re...   \n",
       "2023-09-14  Auto workers are counting the minutes to tonig...   \n",
       "2023-09-15  PARIS (AP) — Apple has agreed to install updat...   \n",
       "\n",
       "                                                       news_6  \\\n",
       "Date                                                            \n",
       "2021-01-05                                                NaN   \n",
       "2021-01-06                                                NaN   \n",
       "2021-01-07                                                NaN   \n",
       "2021-01-08                                                NaN   \n",
       "2021-01-11                                                NaN   \n",
       "...                                                       ...   \n",
       "2023-09-11  Yahoo Finance Live co-host Seana Smith looks a...   \n",
       "2023-09-12  (Bloomberg) -- In the first hands-on testing o...   \n",
       "2023-09-13  Apple's iPhone 15 debut might have been a yawn...   \n",
       "2023-09-14  In this piece, we will take a look at the 12 b...   \n",
       "2023-09-15  Nvidia is ideally positioned to benefit from t...   \n",
       "\n",
       "                                                       news_7  ... news_103  \\\n",
       "Date                                                           ...            \n",
       "2021-01-05                                                NaN  ...      NaN   \n",
       "2021-01-06                                                NaN  ...      NaN   \n",
       "2021-01-07                                                NaN  ...      NaN   \n",
       "2021-01-08                                                NaN  ...      NaN   \n",
       "2021-01-11                                                NaN  ...      NaN   \n",
       "...                                                       ...  ...      ...   \n",
       "2023-09-11  Dow Jones futures: Tesla stock broke out past ...  ...      NaN   \n",
       "2023-09-12  As we saw in pre-market trading this morning, ...  ...      NaN   \n",
       "2023-09-13  It's been six years since major changes to the...  ...      NaN   \n",
       "2023-09-14  Megacaps have been dominating this year. Yahoo...  ...      NaN   \n",
       "2023-09-15  Foxconn Technology Group, one of Apple's bigge...  ...      NaN   \n",
       "\n",
       "           news_104 news_105 news_106 news_107 news_108 news_109 news_110  \\\n",
       "Date                                                                        \n",
       "2021-01-05      NaN      NaN      NaN      NaN      NaN      NaN      NaN   \n",
       "2021-01-06      NaN      NaN      NaN      NaN      NaN      NaN      NaN   \n",
       "2021-01-07      NaN      NaN      NaN      NaN      NaN      NaN      NaN   \n",
       "2021-01-08      NaN      NaN      NaN      NaN      NaN      NaN      NaN   \n",
       "2021-01-11      NaN      NaN      NaN      NaN      NaN      NaN      NaN   \n",
       "...             ...      ...      ...      ...      ...      ...      ...   \n",
       "2023-09-11      NaN      NaN      NaN      NaN      NaN      NaN      NaN   \n",
       "2023-09-12      NaN      NaN      NaN      NaN      NaN      NaN      NaN   \n",
       "2023-09-13      NaN      NaN      NaN      NaN      NaN      NaN      NaN   \n",
       "2023-09-14      NaN      NaN      NaN      NaN      NaN      NaN      NaN   \n",
       "2023-09-15      NaN      NaN      NaN      NaN      NaN      NaN      NaN   \n",
       "\n",
       "           news_111 news_112  \n",
       "Date                          \n",
       "2021-01-05      NaN      NaN  \n",
       "2021-01-06      NaN      NaN  \n",
       "2021-01-07      NaN      NaN  \n",
       "2021-01-08      NaN      NaN  \n",
       "2021-01-11      NaN      NaN  \n",
       "...             ...      ...  \n",
       "2023-09-11      NaN      NaN  \n",
       "2023-09-12      NaN      NaN  \n",
       "2023-09-13      NaN      NaN  \n",
       "2023-09-14      NaN      NaN  \n",
       "2023-09-15      NaN      NaN  \n",
       "\n",
       "[679 rows x 115 columns]"
      ]
     },
     "execution_count": 29,
     "metadata": {},
     "output_type": "execute_result"
    }
   ],
   "source": [
    "aapl_df"
   ]
  },
  {
   "cell_type": "code",
   "execution_count": 30,
   "id": "b1420b02-cca1-44ce-b321-f8d6232aed67",
   "metadata": {},
   "outputs": [
    {
     "data": {
      "text/plain": [
       "<spacytextblob.spacytextblob.SpacyTextBlob at 0x176fbc615d0>"
      ]
     },
     "execution_count": 30,
     "metadata": {},
     "output_type": "execute_result"
    }
   ],
   "source": [
    "nlp = spacy.load('en_core_web_sm')\n",
    "nlp.add_pipe('spacytextblob')"
   ]
  },
  {
   "cell_type": "code",
   "execution_count": 32,
   "id": "c6aa20d3-0a92-4518-aa97-704058d13d6b",
   "metadata": {},
   "outputs": [
    {
     "name": "stdout",
     "output_type": "stream",
     "text": [
      "Index(['news_1', 'news_2', 'news_3', 'news_4', 'news_5', 'news_6', 'news_7',\n",
      "       'news_8', 'news_9', 'news_10',\n",
      "       ...\n",
      "       'news_103', 'news_104', 'news_105', 'news_106', 'news_107', 'news_108',\n",
      "       'news_109', 'news_110', 'news_111', 'news_112'],\n",
      "      dtype='object', length=112)\n"
     ]
    }
   ],
   "source": [
    "news_columns = aapl_df.columns[3:]"
   ]
  },
  {
   "cell_type": "code",
   "execution_count": 33,
   "id": "2cdb64f2-7653-4d2b-8982-38b6eeca8279",
   "metadata": {},
   "outputs": [
    {
     "name": "stdout",
     "output_type": "stream",
     "text": [
      "processing news_1...\n",
      "processing news_2...\n",
      "processing news_3...\n",
      "processing news_4...\n",
      "processing news_5...\n",
      "processing news_6...\n",
      "processing news_7...\n",
      "processing news_8...\n",
      "processing news_9...\n",
      "processing news_10...\n",
      "processing news_11...\n",
      "processing news_12...\n",
      "processing news_13...\n",
      "processing news_14...\n",
      "processing news_15...\n",
      "processing news_16...\n",
      "processing news_17...\n",
      "processing news_18...\n",
      "processing news_19...\n",
      "processing news_20...\n",
      "processing news_21...\n",
      "processing news_22...\n",
      "processing news_23...\n",
      "processing news_24...\n",
      "processing news_25...\n",
      "processing news_26...\n",
      "processing news_27...\n",
      "processing news_28...\n",
      "processing news_29...\n",
      "processing news_30...\n",
      "processing news_31...\n",
      "processing news_32...\n",
      "processing news_33...\n",
      "processing news_34...\n",
      "processing news_35...\n",
      "processing news_36...\n",
      "processing news_37...\n",
      "processing news_38...\n",
      "processing news_39...\n",
      "processing news_40...\n",
      "processing news_41...\n",
      "processing news_42...\n",
      "processing news_43...\n",
      "processing news_44...\n",
      "processing news_45...\n",
      "processing news_46...\n",
      "processing news_47...\n",
      "processing news_48...\n",
      "processing news_49...\n"
     ]
    },
    {
     "name": "stderr",
     "output_type": "stream",
     "text": [
      "C:\\Users\\newzn\\AppData\\Local\\Temp\\ipykernel_6104\\3977523630.py:14: PerformanceWarning: DataFrame is highly fragmented.  This is usually the result of calling `frame.insert` many times, which has poor performance.  Consider joining all columns at once using pd.concat(axis=1) instead. To get a de-fragmented frame, use `newframe = frame.copy()`\n",
      "  aapl_df[col+'_subjectivity'] = subjectivity_list\n"
     ]
    },
    {
     "name": "stdout",
     "output_type": "stream",
     "text": [
      "processing news_50...\n"
     ]
    },
    {
     "name": "stderr",
     "output_type": "stream",
     "text": [
      "C:\\Users\\newzn\\AppData\\Local\\Temp\\ipykernel_6104\\3977523630.py:13: PerformanceWarning: DataFrame is highly fragmented.  This is usually the result of calling `frame.insert` many times, which has poor performance.  Consider joining all columns at once using pd.concat(axis=1) instead. To get a de-fragmented frame, use `newframe = frame.copy()`\n",
      "  aapl_df[col+'_sentiment'] = sentiment_list\n",
      "C:\\Users\\newzn\\AppData\\Local\\Temp\\ipykernel_6104\\3977523630.py:14: PerformanceWarning: DataFrame is highly fragmented.  This is usually the result of calling `frame.insert` many times, which has poor performance.  Consider joining all columns at once using pd.concat(axis=1) instead. To get a de-fragmented frame, use `newframe = frame.copy()`\n",
      "  aapl_df[col+'_subjectivity'] = subjectivity_list\n"
     ]
    },
    {
     "name": "stdout",
     "output_type": "stream",
     "text": [
      "processing news_51...\n"
     ]
    },
    {
     "name": "stderr",
     "output_type": "stream",
     "text": [
      "C:\\Users\\newzn\\AppData\\Local\\Temp\\ipykernel_6104\\3977523630.py:13: PerformanceWarning: DataFrame is highly fragmented.  This is usually the result of calling `frame.insert` many times, which has poor performance.  Consider joining all columns at once using pd.concat(axis=1) instead. To get a de-fragmented frame, use `newframe = frame.copy()`\n",
      "  aapl_df[col+'_sentiment'] = sentiment_list\n",
      "C:\\Users\\newzn\\AppData\\Local\\Temp\\ipykernel_6104\\3977523630.py:14: PerformanceWarning: DataFrame is highly fragmented.  This is usually the result of calling `frame.insert` many times, which has poor performance.  Consider joining all columns at once using pd.concat(axis=1) instead. To get a de-fragmented frame, use `newframe = frame.copy()`\n",
      "  aapl_df[col+'_subjectivity'] = subjectivity_list\n"
     ]
    },
    {
     "name": "stdout",
     "output_type": "stream",
     "text": [
      "processing news_52...\n"
     ]
    },
    {
     "name": "stderr",
     "output_type": "stream",
     "text": [
      "C:\\Users\\newzn\\AppData\\Local\\Temp\\ipykernel_6104\\3977523630.py:13: PerformanceWarning: DataFrame is highly fragmented.  This is usually the result of calling `frame.insert` many times, which has poor performance.  Consider joining all columns at once using pd.concat(axis=1) instead. To get a de-fragmented frame, use `newframe = frame.copy()`\n",
      "  aapl_df[col+'_sentiment'] = sentiment_list\n",
      "C:\\Users\\newzn\\AppData\\Local\\Temp\\ipykernel_6104\\3977523630.py:14: PerformanceWarning: DataFrame is highly fragmented.  This is usually the result of calling `frame.insert` many times, which has poor performance.  Consider joining all columns at once using pd.concat(axis=1) instead. To get a de-fragmented frame, use `newframe = frame.copy()`\n",
      "  aapl_df[col+'_subjectivity'] = subjectivity_list\n"
     ]
    },
    {
     "name": "stdout",
     "output_type": "stream",
     "text": [
      "processing news_53...\n"
     ]
    },
    {
     "name": "stderr",
     "output_type": "stream",
     "text": [
      "C:\\Users\\newzn\\AppData\\Local\\Temp\\ipykernel_6104\\3977523630.py:13: PerformanceWarning: DataFrame is highly fragmented.  This is usually the result of calling `frame.insert` many times, which has poor performance.  Consider joining all columns at once using pd.concat(axis=1) instead. To get a de-fragmented frame, use `newframe = frame.copy()`\n",
      "  aapl_df[col+'_sentiment'] = sentiment_list\n",
      "C:\\Users\\newzn\\AppData\\Local\\Temp\\ipykernel_6104\\3977523630.py:14: PerformanceWarning: DataFrame is highly fragmented.  This is usually the result of calling `frame.insert` many times, which has poor performance.  Consider joining all columns at once using pd.concat(axis=1) instead. To get a de-fragmented frame, use `newframe = frame.copy()`\n",
      "  aapl_df[col+'_subjectivity'] = subjectivity_list\n"
     ]
    },
    {
     "name": "stdout",
     "output_type": "stream",
     "text": [
      "processing news_54...\n"
     ]
    },
    {
     "name": "stderr",
     "output_type": "stream",
     "text": [
      "C:\\Users\\newzn\\AppData\\Local\\Temp\\ipykernel_6104\\3977523630.py:13: PerformanceWarning: DataFrame is highly fragmented.  This is usually the result of calling `frame.insert` many times, which has poor performance.  Consider joining all columns at once using pd.concat(axis=1) instead. To get a de-fragmented frame, use `newframe = frame.copy()`\n",
      "  aapl_df[col+'_sentiment'] = sentiment_list\n",
      "C:\\Users\\newzn\\AppData\\Local\\Temp\\ipykernel_6104\\3977523630.py:14: PerformanceWarning: DataFrame is highly fragmented.  This is usually the result of calling `frame.insert` many times, which has poor performance.  Consider joining all columns at once using pd.concat(axis=1) instead. To get a de-fragmented frame, use `newframe = frame.copy()`\n",
      "  aapl_df[col+'_subjectivity'] = subjectivity_list\n"
     ]
    },
    {
     "name": "stdout",
     "output_type": "stream",
     "text": [
      "processing news_55...\n"
     ]
    },
    {
     "name": "stderr",
     "output_type": "stream",
     "text": [
      "C:\\Users\\newzn\\AppData\\Local\\Temp\\ipykernel_6104\\3977523630.py:13: PerformanceWarning: DataFrame is highly fragmented.  This is usually the result of calling `frame.insert` many times, which has poor performance.  Consider joining all columns at once using pd.concat(axis=1) instead. To get a de-fragmented frame, use `newframe = frame.copy()`\n",
      "  aapl_df[col+'_sentiment'] = sentiment_list\n",
      "C:\\Users\\newzn\\AppData\\Local\\Temp\\ipykernel_6104\\3977523630.py:14: PerformanceWarning: DataFrame is highly fragmented.  This is usually the result of calling `frame.insert` many times, which has poor performance.  Consider joining all columns at once using pd.concat(axis=1) instead. To get a de-fragmented frame, use `newframe = frame.copy()`\n",
      "  aapl_df[col+'_subjectivity'] = subjectivity_list\n"
     ]
    },
    {
     "name": "stdout",
     "output_type": "stream",
     "text": [
      "processing news_56...\n"
     ]
    },
    {
     "name": "stderr",
     "output_type": "stream",
     "text": [
      "C:\\Users\\newzn\\AppData\\Local\\Temp\\ipykernel_6104\\3977523630.py:13: PerformanceWarning: DataFrame is highly fragmented.  This is usually the result of calling `frame.insert` many times, which has poor performance.  Consider joining all columns at once using pd.concat(axis=1) instead. To get a de-fragmented frame, use `newframe = frame.copy()`\n",
      "  aapl_df[col+'_sentiment'] = sentiment_list\n",
      "C:\\Users\\newzn\\AppData\\Local\\Temp\\ipykernel_6104\\3977523630.py:14: PerformanceWarning: DataFrame is highly fragmented.  This is usually the result of calling `frame.insert` many times, which has poor performance.  Consider joining all columns at once using pd.concat(axis=1) instead. To get a de-fragmented frame, use `newframe = frame.copy()`\n",
      "  aapl_df[col+'_subjectivity'] = subjectivity_list\n"
     ]
    },
    {
     "name": "stdout",
     "output_type": "stream",
     "text": [
      "processing news_57...\n"
     ]
    },
    {
     "name": "stderr",
     "output_type": "stream",
     "text": [
      "C:\\Users\\newzn\\AppData\\Local\\Temp\\ipykernel_6104\\3977523630.py:13: PerformanceWarning: DataFrame is highly fragmented.  This is usually the result of calling `frame.insert` many times, which has poor performance.  Consider joining all columns at once using pd.concat(axis=1) instead. To get a de-fragmented frame, use `newframe = frame.copy()`\n",
      "  aapl_df[col+'_sentiment'] = sentiment_list\n",
      "C:\\Users\\newzn\\AppData\\Local\\Temp\\ipykernel_6104\\3977523630.py:14: PerformanceWarning: DataFrame is highly fragmented.  This is usually the result of calling `frame.insert` many times, which has poor performance.  Consider joining all columns at once using pd.concat(axis=1) instead. To get a de-fragmented frame, use `newframe = frame.copy()`\n",
      "  aapl_df[col+'_subjectivity'] = subjectivity_list\n"
     ]
    },
    {
     "name": "stdout",
     "output_type": "stream",
     "text": [
      "processing news_58...\n"
     ]
    },
    {
     "name": "stderr",
     "output_type": "stream",
     "text": [
      "C:\\Users\\newzn\\AppData\\Local\\Temp\\ipykernel_6104\\3977523630.py:13: PerformanceWarning: DataFrame is highly fragmented.  This is usually the result of calling `frame.insert` many times, which has poor performance.  Consider joining all columns at once using pd.concat(axis=1) instead. To get a de-fragmented frame, use `newframe = frame.copy()`\n",
      "  aapl_df[col+'_sentiment'] = sentiment_list\n",
      "C:\\Users\\newzn\\AppData\\Local\\Temp\\ipykernel_6104\\3977523630.py:14: PerformanceWarning: DataFrame is highly fragmented.  This is usually the result of calling `frame.insert` many times, which has poor performance.  Consider joining all columns at once using pd.concat(axis=1) instead. To get a de-fragmented frame, use `newframe = frame.copy()`\n",
      "  aapl_df[col+'_subjectivity'] = subjectivity_list\n"
     ]
    },
    {
     "name": "stdout",
     "output_type": "stream",
     "text": [
      "processing news_59...\n"
     ]
    },
    {
     "name": "stderr",
     "output_type": "stream",
     "text": [
      "C:\\Users\\newzn\\AppData\\Local\\Temp\\ipykernel_6104\\3977523630.py:13: PerformanceWarning: DataFrame is highly fragmented.  This is usually the result of calling `frame.insert` many times, which has poor performance.  Consider joining all columns at once using pd.concat(axis=1) instead. To get a de-fragmented frame, use `newframe = frame.copy()`\n",
      "  aapl_df[col+'_sentiment'] = sentiment_list\n",
      "C:\\Users\\newzn\\AppData\\Local\\Temp\\ipykernel_6104\\3977523630.py:14: PerformanceWarning: DataFrame is highly fragmented.  This is usually the result of calling `frame.insert` many times, which has poor performance.  Consider joining all columns at once using pd.concat(axis=1) instead. To get a de-fragmented frame, use `newframe = frame.copy()`\n",
      "  aapl_df[col+'_subjectivity'] = subjectivity_list\n"
     ]
    },
    {
     "name": "stdout",
     "output_type": "stream",
     "text": [
      "processing news_60...\n"
     ]
    },
    {
     "name": "stderr",
     "output_type": "stream",
     "text": [
      "C:\\Users\\newzn\\AppData\\Local\\Temp\\ipykernel_6104\\3977523630.py:13: PerformanceWarning: DataFrame is highly fragmented.  This is usually the result of calling `frame.insert` many times, which has poor performance.  Consider joining all columns at once using pd.concat(axis=1) instead. To get a de-fragmented frame, use `newframe = frame.copy()`\n",
      "  aapl_df[col+'_sentiment'] = sentiment_list\n",
      "C:\\Users\\newzn\\AppData\\Local\\Temp\\ipykernel_6104\\3977523630.py:14: PerformanceWarning: DataFrame is highly fragmented.  This is usually the result of calling `frame.insert` many times, which has poor performance.  Consider joining all columns at once using pd.concat(axis=1) instead. To get a de-fragmented frame, use `newframe = frame.copy()`\n",
      "  aapl_df[col+'_subjectivity'] = subjectivity_list\n"
     ]
    },
    {
     "name": "stdout",
     "output_type": "stream",
     "text": [
      "processing news_61...\n"
     ]
    },
    {
     "name": "stderr",
     "output_type": "stream",
     "text": [
      "C:\\Users\\newzn\\AppData\\Local\\Temp\\ipykernel_6104\\3977523630.py:13: PerformanceWarning: DataFrame is highly fragmented.  This is usually the result of calling `frame.insert` many times, which has poor performance.  Consider joining all columns at once using pd.concat(axis=1) instead. To get a de-fragmented frame, use `newframe = frame.copy()`\n",
      "  aapl_df[col+'_sentiment'] = sentiment_list\n",
      "C:\\Users\\newzn\\AppData\\Local\\Temp\\ipykernel_6104\\3977523630.py:14: PerformanceWarning: DataFrame is highly fragmented.  This is usually the result of calling `frame.insert` many times, which has poor performance.  Consider joining all columns at once using pd.concat(axis=1) instead. To get a de-fragmented frame, use `newframe = frame.copy()`\n",
      "  aapl_df[col+'_subjectivity'] = subjectivity_list\n"
     ]
    },
    {
     "name": "stdout",
     "output_type": "stream",
     "text": [
      "processing news_62...\n"
     ]
    },
    {
     "name": "stderr",
     "output_type": "stream",
     "text": [
      "C:\\Users\\newzn\\AppData\\Local\\Temp\\ipykernel_6104\\3977523630.py:13: PerformanceWarning: DataFrame is highly fragmented.  This is usually the result of calling `frame.insert` many times, which has poor performance.  Consider joining all columns at once using pd.concat(axis=1) instead. To get a de-fragmented frame, use `newframe = frame.copy()`\n",
      "  aapl_df[col+'_sentiment'] = sentiment_list\n",
      "C:\\Users\\newzn\\AppData\\Local\\Temp\\ipykernel_6104\\3977523630.py:14: PerformanceWarning: DataFrame is highly fragmented.  This is usually the result of calling `frame.insert` many times, which has poor performance.  Consider joining all columns at once using pd.concat(axis=1) instead. To get a de-fragmented frame, use `newframe = frame.copy()`\n",
      "  aapl_df[col+'_subjectivity'] = subjectivity_list\n"
     ]
    },
    {
     "name": "stdout",
     "output_type": "stream",
     "text": [
      "processing news_63...\n"
     ]
    },
    {
     "name": "stderr",
     "output_type": "stream",
     "text": [
      "C:\\Users\\newzn\\AppData\\Local\\Temp\\ipykernel_6104\\3977523630.py:13: PerformanceWarning: DataFrame is highly fragmented.  This is usually the result of calling `frame.insert` many times, which has poor performance.  Consider joining all columns at once using pd.concat(axis=1) instead. To get a de-fragmented frame, use `newframe = frame.copy()`\n",
      "  aapl_df[col+'_sentiment'] = sentiment_list\n",
      "C:\\Users\\newzn\\AppData\\Local\\Temp\\ipykernel_6104\\3977523630.py:14: PerformanceWarning: DataFrame is highly fragmented.  This is usually the result of calling `frame.insert` many times, which has poor performance.  Consider joining all columns at once using pd.concat(axis=1) instead. To get a de-fragmented frame, use `newframe = frame.copy()`\n",
      "  aapl_df[col+'_subjectivity'] = subjectivity_list\n"
     ]
    },
    {
     "name": "stdout",
     "output_type": "stream",
     "text": [
      "processing news_64...\n"
     ]
    },
    {
     "name": "stderr",
     "output_type": "stream",
     "text": [
      "C:\\Users\\newzn\\AppData\\Local\\Temp\\ipykernel_6104\\3977523630.py:13: PerformanceWarning: DataFrame is highly fragmented.  This is usually the result of calling `frame.insert` many times, which has poor performance.  Consider joining all columns at once using pd.concat(axis=1) instead. To get a de-fragmented frame, use `newframe = frame.copy()`\n",
      "  aapl_df[col+'_sentiment'] = sentiment_list\n",
      "C:\\Users\\newzn\\AppData\\Local\\Temp\\ipykernel_6104\\3977523630.py:14: PerformanceWarning: DataFrame is highly fragmented.  This is usually the result of calling `frame.insert` many times, which has poor performance.  Consider joining all columns at once using pd.concat(axis=1) instead. To get a de-fragmented frame, use `newframe = frame.copy()`\n",
      "  aapl_df[col+'_subjectivity'] = subjectivity_list\n"
     ]
    },
    {
     "name": "stdout",
     "output_type": "stream",
     "text": [
      "processing news_65...\n"
     ]
    },
    {
     "name": "stderr",
     "output_type": "stream",
     "text": [
      "C:\\Users\\newzn\\AppData\\Local\\Temp\\ipykernel_6104\\3977523630.py:13: PerformanceWarning: DataFrame is highly fragmented.  This is usually the result of calling `frame.insert` many times, which has poor performance.  Consider joining all columns at once using pd.concat(axis=1) instead. To get a de-fragmented frame, use `newframe = frame.copy()`\n",
      "  aapl_df[col+'_sentiment'] = sentiment_list\n",
      "C:\\Users\\newzn\\AppData\\Local\\Temp\\ipykernel_6104\\3977523630.py:14: PerformanceWarning: DataFrame is highly fragmented.  This is usually the result of calling `frame.insert` many times, which has poor performance.  Consider joining all columns at once using pd.concat(axis=1) instead. To get a de-fragmented frame, use `newframe = frame.copy()`\n",
      "  aapl_df[col+'_subjectivity'] = subjectivity_list\n"
     ]
    },
    {
     "name": "stdout",
     "output_type": "stream",
     "text": [
      "processing news_66...\n"
     ]
    },
    {
     "name": "stderr",
     "output_type": "stream",
     "text": [
      "C:\\Users\\newzn\\AppData\\Local\\Temp\\ipykernel_6104\\3977523630.py:13: PerformanceWarning: DataFrame is highly fragmented.  This is usually the result of calling `frame.insert` many times, which has poor performance.  Consider joining all columns at once using pd.concat(axis=1) instead. To get a de-fragmented frame, use `newframe = frame.copy()`\n",
      "  aapl_df[col+'_sentiment'] = sentiment_list\n",
      "C:\\Users\\newzn\\AppData\\Local\\Temp\\ipykernel_6104\\3977523630.py:14: PerformanceWarning: DataFrame is highly fragmented.  This is usually the result of calling `frame.insert` many times, which has poor performance.  Consider joining all columns at once using pd.concat(axis=1) instead. To get a de-fragmented frame, use `newframe = frame.copy()`\n",
      "  aapl_df[col+'_subjectivity'] = subjectivity_list\n"
     ]
    },
    {
     "name": "stdout",
     "output_type": "stream",
     "text": [
      "processing news_67...\n"
     ]
    },
    {
     "name": "stderr",
     "output_type": "stream",
     "text": [
      "C:\\Users\\newzn\\AppData\\Local\\Temp\\ipykernel_6104\\3977523630.py:13: PerformanceWarning: DataFrame is highly fragmented.  This is usually the result of calling `frame.insert` many times, which has poor performance.  Consider joining all columns at once using pd.concat(axis=1) instead. To get a de-fragmented frame, use `newframe = frame.copy()`\n",
      "  aapl_df[col+'_sentiment'] = sentiment_list\n",
      "C:\\Users\\newzn\\AppData\\Local\\Temp\\ipykernel_6104\\3977523630.py:14: PerformanceWarning: DataFrame is highly fragmented.  This is usually the result of calling `frame.insert` many times, which has poor performance.  Consider joining all columns at once using pd.concat(axis=1) instead. To get a de-fragmented frame, use `newframe = frame.copy()`\n",
      "  aapl_df[col+'_subjectivity'] = subjectivity_list\n"
     ]
    },
    {
     "name": "stdout",
     "output_type": "stream",
     "text": [
      "processing news_68...\n"
     ]
    },
    {
     "name": "stderr",
     "output_type": "stream",
     "text": [
      "C:\\Users\\newzn\\AppData\\Local\\Temp\\ipykernel_6104\\3977523630.py:13: PerformanceWarning: DataFrame is highly fragmented.  This is usually the result of calling `frame.insert` many times, which has poor performance.  Consider joining all columns at once using pd.concat(axis=1) instead. To get a de-fragmented frame, use `newframe = frame.copy()`\n",
      "  aapl_df[col+'_sentiment'] = sentiment_list\n",
      "C:\\Users\\newzn\\AppData\\Local\\Temp\\ipykernel_6104\\3977523630.py:14: PerformanceWarning: DataFrame is highly fragmented.  This is usually the result of calling `frame.insert` many times, which has poor performance.  Consider joining all columns at once using pd.concat(axis=1) instead. To get a de-fragmented frame, use `newframe = frame.copy()`\n",
      "  aapl_df[col+'_subjectivity'] = subjectivity_list\n"
     ]
    },
    {
     "name": "stdout",
     "output_type": "stream",
     "text": [
      "processing news_69...\n"
     ]
    },
    {
     "name": "stderr",
     "output_type": "stream",
     "text": [
      "C:\\Users\\newzn\\AppData\\Local\\Temp\\ipykernel_6104\\3977523630.py:13: PerformanceWarning: DataFrame is highly fragmented.  This is usually the result of calling `frame.insert` many times, which has poor performance.  Consider joining all columns at once using pd.concat(axis=1) instead. To get a de-fragmented frame, use `newframe = frame.copy()`\n",
      "  aapl_df[col+'_sentiment'] = sentiment_list\n",
      "C:\\Users\\newzn\\AppData\\Local\\Temp\\ipykernel_6104\\3977523630.py:14: PerformanceWarning: DataFrame is highly fragmented.  This is usually the result of calling `frame.insert` many times, which has poor performance.  Consider joining all columns at once using pd.concat(axis=1) instead. To get a de-fragmented frame, use `newframe = frame.copy()`\n",
      "  aapl_df[col+'_subjectivity'] = subjectivity_list\n"
     ]
    },
    {
     "name": "stdout",
     "output_type": "stream",
     "text": [
      "processing news_70...\n"
     ]
    },
    {
     "name": "stderr",
     "output_type": "stream",
     "text": [
      "C:\\Users\\newzn\\AppData\\Local\\Temp\\ipykernel_6104\\3977523630.py:13: PerformanceWarning: DataFrame is highly fragmented.  This is usually the result of calling `frame.insert` many times, which has poor performance.  Consider joining all columns at once using pd.concat(axis=1) instead. To get a de-fragmented frame, use `newframe = frame.copy()`\n",
      "  aapl_df[col+'_sentiment'] = sentiment_list\n",
      "C:\\Users\\newzn\\AppData\\Local\\Temp\\ipykernel_6104\\3977523630.py:14: PerformanceWarning: DataFrame is highly fragmented.  This is usually the result of calling `frame.insert` many times, which has poor performance.  Consider joining all columns at once using pd.concat(axis=1) instead. To get a de-fragmented frame, use `newframe = frame.copy()`\n",
      "  aapl_df[col+'_subjectivity'] = subjectivity_list\n"
     ]
    },
    {
     "name": "stdout",
     "output_type": "stream",
     "text": [
      "processing news_71...\n"
     ]
    },
    {
     "name": "stderr",
     "output_type": "stream",
     "text": [
      "C:\\Users\\newzn\\AppData\\Local\\Temp\\ipykernel_6104\\3977523630.py:13: PerformanceWarning: DataFrame is highly fragmented.  This is usually the result of calling `frame.insert` many times, which has poor performance.  Consider joining all columns at once using pd.concat(axis=1) instead. To get a de-fragmented frame, use `newframe = frame.copy()`\n",
      "  aapl_df[col+'_sentiment'] = sentiment_list\n",
      "C:\\Users\\newzn\\AppData\\Local\\Temp\\ipykernel_6104\\3977523630.py:14: PerformanceWarning: DataFrame is highly fragmented.  This is usually the result of calling `frame.insert` many times, which has poor performance.  Consider joining all columns at once using pd.concat(axis=1) instead. To get a de-fragmented frame, use `newframe = frame.copy()`\n",
      "  aapl_df[col+'_subjectivity'] = subjectivity_list\n"
     ]
    },
    {
     "name": "stdout",
     "output_type": "stream",
     "text": [
      "processing news_72...\n"
     ]
    },
    {
     "name": "stderr",
     "output_type": "stream",
     "text": [
      "C:\\Users\\newzn\\AppData\\Local\\Temp\\ipykernel_6104\\3977523630.py:13: PerformanceWarning: DataFrame is highly fragmented.  This is usually the result of calling `frame.insert` many times, which has poor performance.  Consider joining all columns at once using pd.concat(axis=1) instead. To get a de-fragmented frame, use `newframe = frame.copy()`\n",
      "  aapl_df[col+'_sentiment'] = sentiment_list\n",
      "C:\\Users\\newzn\\AppData\\Local\\Temp\\ipykernel_6104\\3977523630.py:14: PerformanceWarning: DataFrame is highly fragmented.  This is usually the result of calling `frame.insert` many times, which has poor performance.  Consider joining all columns at once using pd.concat(axis=1) instead. To get a de-fragmented frame, use `newframe = frame.copy()`\n",
      "  aapl_df[col+'_subjectivity'] = subjectivity_list\n"
     ]
    },
    {
     "name": "stdout",
     "output_type": "stream",
     "text": [
      "processing news_73...\n"
     ]
    },
    {
     "name": "stderr",
     "output_type": "stream",
     "text": [
      "C:\\Users\\newzn\\AppData\\Local\\Temp\\ipykernel_6104\\3977523630.py:13: PerformanceWarning: DataFrame is highly fragmented.  This is usually the result of calling `frame.insert` many times, which has poor performance.  Consider joining all columns at once using pd.concat(axis=1) instead. To get a de-fragmented frame, use `newframe = frame.copy()`\n",
      "  aapl_df[col+'_sentiment'] = sentiment_list\n",
      "C:\\Users\\newzn\\AppData\\Local\\Temp\\ipykernel_6104\\3977523630.py:14: PerformanceWarning: DataFrame is highly fragmented.  This is usually the result of calling `frame.insert` many times, which has poor performance.  Consider joining all columns at once using pd.concat(axis=1) instead. To get a de-fragmented frame, use `newframe = frame.copy()`\n",
      "  aapl_df[col+'_subjectivity'] = subjectivity_list\n"
     ]
    },
    {
     "name": "stdout",
     "output_type": "stream",
     "text": [
      "processing news_74...\n"
     ]
    },
    {
     "name": "stderr",
     "output_type": "stream",
     "text": [
      "C:\\Users\\newzn\\AppData\\Local\\Temp\\ipykernel_6104\\3977523630.py:13: PerformanceWarning: DataFrame is highly fragmented.  This is usually the result of calling `frame.insert` many times, which has poor performance.  Consider joining all columns at once using pd.concat(axis=1) instead. To get a de-fragmented frame, use `newframe = frame.copy()`\n",
      "  aapl_df[col+'_sentiment'] = sentiment_list\n",
      "C:\\Users\\newzn\\AppData\\Local\\Temp\\ipykernel_6104\\3977523630.py:14: PerformanceWarning: DataFrame is highly fragmented.  This is usually the result of calling `frame.insert` many times, which has poor performance.  Consider joining all columns at once using pd.concat(axis=1) instead. To get a de-fragmented frame, use `newframe = frame.copy()`\n",
      "  aapl_df[col+'_subjectivity'] = subjectivity_list\n"
     ]
    },
    {
     "name": "stdout",
     "output_type": "stream",
     "text": [
      "processing news_75...\n"
     ]
    },
    {
     "name": "stderr",
     "output_type": "stream",
     "text": [
      "C:\\Users\\newzn\\AppData\\Local\\Temp\\ipykernel_6104\\3977523630.py:13: PerformanceWarning: DataFrame is highly fragmented.  This is usually the result of calling `frame.insert` many times, which has poor performance.  Consider joining all columns at once using pd.concat(axis=1) instead. To get a de-fragmented frame, use `newframe = frame.copy()`\n",
      "  aapl_df[col+'_sentiment'] = sentiment_list\n",
      "C:\\Users\\newzn\\AppData\\Local\\Temp\\ipykernel_6104\\3977523630.py:14: PerformanceWarning: DataFrame is highly fragmented.  This is usually the result of calling `frame.insert` many times, which has poor performance.  Consider joining all columns at once using pd.concat(axis=1) instead. To get a de-fragmented frame, use `newframe = frame.copy()`\n",
      "  aapl_df[col+'_subjectivity'] = subjectivity_list\n"
     ]
    },
    {
     "name": "stdout",
     "output_type": "stream",
     "text": [
      "processing news_76...\n"
     ]
    },
    {
     "name": "stderr",
     "output_type": "stream",
     "text": [
      "C:\\Users\\newzn\\AppData\\Local\\Temp\\ipykernel_6104\\3977523630.py:13: PerformanceWarning: DataFrame is highly fragmented.  This is usually the result of calling `frame.insert` many times, which has poor performance.  Consider joining all columns at once using pd.concat(axis=1) instead. To get a de-fragmented frame, use `newframe = frame.copy()`\n",
      "  aapl_df[col+'_sentiment'] = sentiment_list\n",
      "C:\\Users\\newzn\\AppData\\Local\\Temp\\ipykernel_6104\\3977523630.py:14: PerformanceWarning: DataFrame is highly fragmented.  This is usually the result of calling `frame.insert` many times, which has poor performance.  Consider joining all columns at once using pd.concat(axis=1) instead. To get a de-fragmented frame, use `newframe = frame.copy()`\n",
      "  aapl_df[col+'_subjectivity'] = subjectivity_list\n"
     ]
    },
    {
     "name": "stdout",
     "output_type": "stream",
     "text": [
      "processing news_77...\n"
     ]
    },
    {
     "name": "stderr",
     "output_type": "stream",
     "text": [
      "C:\\Users\\newzn\\AppData\\Local\\Temp\\ipykernel_6104\\3977523630.py:13: PerformanceWarning: DataFrame is highly fragmented.  This is usually the result of calling `frame.insert` many times, which has poor performance.  Consider joining all columns at once using pd.concat(axis=1) instead. To get a de-fragmented frame, use `newframe = frame.copy()`\n",
      "  aapl_df[col+'_sentiment'] = sentiment_list\n",
      "C:\\Users\\newzn\\AppData\\Local\\Temp\\ipykernel_6104\\3977523630.py:14: PerformanceWarning: DataFrame is highly fragmented.  This is usually the result of calling `frame.insert` many times, which has poor performance.  Consider joining all columns at once using pd.concat(axis=1) instead. To get a de-fragmented frame, use `newframe = frame.copy()`\n",
      "  aapl_df[col+'_subjectivity'] = subjectivity_list\n"
     ]
    },
    {
     "name": "stdout",
     "output_type": "stream",
     "text": [
      "processing news_78...\n"
     ]
    },
    {
     "name": "stderr",
     "output_type": "stream",
     "text": [
      "C:\\Users\\newzn\\AppData\\Local\\Temp\\ipykernel_6104\\3977523630.py:13: PerformanceWarning: DataFrame is highly fragmented.  This is usually the result of calling `frame.insert` many times, which has poor performance.  Consider joining all columns at once using pd.concat(axis=1) instead. To get a de-fragmented frame, use `newframe = frame.copy()`\n",
      "  aapl_df[col+'_sentiment'] = sentiment_list\n",
      "C:\\Users\\newzn\\AppData\\Local\\Temp\\ipykernel_6104\\3977523630.py:14: PerformanceWarning: DataFrame is highly fragmented.  This is usually the result of calling `frame.insert` many times, which has poor performance.  Consider joining all columns at once using pd.concat(axis=1) instead. To get a de-fragmented frame, use `newframe = frame.copy()`\n",
      "  aapl_df[col+'_subjectivity'] = subjectivity_list\n"
     ]
    },
    {
     "name": "stdout",
     "output_type": "stream",
     "text": [
      "processing news_79...\n"
     ]
    },
    {
     "name": "stderr",
     "output_type": "stream",
     "text": [
      "C:\\Users\\newzn\\AppData\\Local\\Temp\\ipykernel_6104\\3977523630.py:13: PerformanceWarning: DataFrame is highly fragmented.  This is usually the result of calling `frame.insert` many times, which has poor performance.  Consider joining all columns at once using pd.concat(axis=1) instead. To get a de-fragmented frame, use `newframe = frame.copy()`\n",
      "  aapl_df[col+'_sentiment'] = sentiment_list\n",
      "C:\\Users\\newzn\\AppData\\Local\\Temp\\ipykernel_6104\\3977523630.py:14: PerformanceWarning: DataFrame is highly fragmented.  This is usually the result of calling `frame.insert` many times, which has poor performance.  Consider joining all columns at once using pd.concat(axis=1) instead. To get a de-fragmented frame, use `newframe = frame.copy()`\n",
      "  aapl_df[col+'_subjectivity'] = subjectivity_list\n"
     ]
    },
    {
     "name": "stdout",
     "output_type": "stream",
     "text": [
      "processing news_80...\n"
     ]
    },
    {
     "name": "stderr",
     "output_type": "stream",
     "text": [
      "C:\\Users\\newzn\\AppData\\Local\\Temp\\ipykernel_6104\\3977523630.py:13: PerformanceWarning: DataFrame is highly fragmented.  This is usually the result of calling `frame.insert` many times, which has poor performance.  Consider joining all columns at once using pd.concat(axis=1) instead. To get a de-fragmented frame, use `newframe = frame.copy()`\n",
      "  aapl_df[col+'_sentiment'] = sentiment_list\n",
      "C:\\Users\\newzn\\AppData\\Local\\Temp\\ipykernel_6104\\3977523630.py:14: PerformanceWarning: DataFrame is highly fragmented.  This is usually the result of calling `frame.insert` many times, which has poor performance.  Consider joining all columns at once using pd.concat(axis=1) instead. To get a de-fragmented frame, use `newframe = frame.copy()`\n",
      "  aapl_df[col+'_subjectivity'] = subjectivity_list\n"
     ]
    },
    {
     "name": "stdout",
     "output_type": "stream",
     "text": [
      "processing news_81...\n"
     ]
    },
    {
     "name": "stderr",
     "output_type": "stream",
     "text": [
      "C:\\Users\\newzn\\AppData\\Local\\Temp\\ipykernel_6104\\3977523630.py:13: PerformanceWarning: DataFrame is highly fragmented.  This is usually the result of calling `frame.insert` many times, which has poor performance.  Consider joining all columns at once using pd.concat(axis=1) instead. To get a de-fragmented frame, use `newframe = frame.copy()`\n",
      "  aapl_df[col+'_sentiment'] = sentiment_list\n",
      "C:\\Users\\newzn\\AppData\\Local\\Temp\\ipykernel_6104\\3977523630.py:14: PerformanceWarning: DataFrame is highly fragmented.  This is usually the result of calling `frame.insert` many times, which has poor performance.  Consider joining all columns at once using pd.concat(axis=1) instead. To get a de-fragmented frame, use `newframe = frame.copy()`\n",
      "  aapl_df[col+'_subjectivity'] = subjectivity_list\n",
      "C:\\Users\\newzn\\AppData\\Local\\Temp\\ipykernel_6104\\3977523630.py:13: PerformanceWarning: DataFrame is highly fragmented.  This is usually the result of calling `frame.insert` many times, which has poor performance.  Consider joining all columns at once using pd.concat(axis=1) instead. To get a de-fragmented frame, use `newframe = frame.copy()`\n",
      "  aapl_df[col+'_sentiment'] = sentiment_list\n",
      "C:\\Users\\newzn\\AppData\\Local\\Temp\\ipykernel_6104\\3977523630.py:14: PerformanceWarning: DataFrame is highly fragmented.  This is usually the result of calling `frame.insert` many times, which has poor performance.  Consider joining all columns at once using pd.concat(axis=1) instead. To get a de-fragmented frame, use `newframe = frame.copy()`\n",
      "  aapl_df[col+'_subjectivity'] = subjectivity_list\n"
     ]
    },
    {
     "name": "stdout",
     "output_type": "stream",
     "text": [
      "processing news_82...\n",
      "processing news_83...\n"
     ]
    },
    {
     "name": "stderr",
     "output_type": "stream",
     "text": [
      "C:\\Users\\newzn\\AppData\\Local\\Temp\\ipykernel_6104\\3977523630.py:13: PerformanceWarning: DataFrame is highly fragmented.  This is usually the result of calling `frame.insert` many times, which has poor performance.  Consider joining all columns at once using pd.concat(axis=1) instead. To get a de-fragmented frame, use `newframe = frame.copy()`\n",
      "  aapl_df[col+'_sentiment'] = sentiment_list\n",
      "C:\\Users\\newzn\\AppData\\Local\\Temp\\ipykernel_6104\\3977523630.py:14: PerformanceWarning: DataFrame is highly fragmented.  This is usually the result of calling `frame.insert` many times, which has poor performance.  Consider joining all columns at once using pd.concat(axis=1) instead. To get a de-fragmented frame, use `newframe = frame.copy()`\n",
      "  aapl_df[col+'_subjectivity'] = subjectivity_list\n",
      "C:\\Users\\newzn\\AppData\\Local\\Temp\\ipykernel_6104\\3977523630.py:13: PerformanceWarning: DataFrame is highly fragmented.  This is usually the result of calling `frame.insert` many times, which has poor performance.  Consider joining all columns at once using pd.concat(axis=1) instead. To get a de-fragmented frame, use `newframe = frame.copy()`\n",
      "  aapl_df[col+'_sentiment'] = sentiment_list\n",
      "C:\\Users\\newzn\\AppData\\Local\\Temp\\ipykernel_6104\\3977523630.py:14: PerformanceWarning: DataFrame is highly fragmented.  This is usually the result of calling `frame.insert` many times, which has poor performance.  Consider joining all columns at once using pd.concat(axis=1) instead. To get a de-fragmented frame, use `newframe = frame.copy()`\n",
      "  aapl_df[col+'_subjectivity'] = subjectivity_list\n",
      "C:\\Users\\newzn\\AppData\\Local\\Temp\\ipykernel_6104\\3977523630.py:13: PerformanceWarning: DataFrame is highly fragmented.  This is usually the result of calling `frame.insert` many times, which has poor performance.  Consider joining all columns at once using pd.concat(axis=1) instead. To get a de-fragmented frame, use `newframe = frame.copy()`\n",
      "  aapl_df[col+'_sentiment'] = sentiment_list\n",
      "C:\\Users\\newzn\\AppData\\Local\\Temp\\ipykernel_6104\\3977523630.py:14: PerformanceWarning: DataFrame is highly fragmented.  This is usually the result of calling `frame.insert` many times, which has poor performance.  Consider joining all columns at once using pd.concat(axis=1) instead. To get a de-fragmented frame, use `newframe = frame.copy()`\n",
      "  aapl_df[col+'_subjectivity'] = subjectivity_list\n"
     ]
    },
    {
     "name": "stdout",
     "output_type": "stream",
     "text": [
      "processing news_84...\n",
      "processing news_85...\n",
      "processing news_86...\n"
     ]
    },
    {
     "name": "stderr",
     "output_type": "stream",
     "text": [
      "C:\\Users\\newzn\\AppData\\Local\\Temp\\ipykernel_6104\\3977523630.py:13: PerformanceWarning: DataFrame is highly fragmented.  This is usually the result of calling `frame.insert` many times, which has poor performance.  Consider joining all columns at once using pd.concat(axis=1) instead. To get a de-fragmented frame, use `newframe = frame.copy()`\n",
      "  aapl_df[col+'_sentiment'] = sentiment_list\n",
      "C:\\Users\\newzn\\AppData\\Local\\Temp\\ipykernel_6104\\3977523630.py:14: PerformanceWarning: DataFrame is highly fragmented.  This is usually the result of calling `frame.insert` many times, which has poor performance.  Consider joining all columns at once using pd.concat(axis=1) instead. To get a de-fragmented frame, use `newframe = frame.copy()`\n",
      "  aapl_df[col+'_subjectivity'] = subjectivity_list\n",
      "C:\\Users\\newzn\\AppData\\Local\\Temp\\ipykernel_6104\\3977523630.py:13: PerformanceWarning: DataFrame is highly fragmented.  This is usually the result of calling `frame.insert` many times, which has poor performance.  Consider joining all columns at once using pd.concat(axis=1) instead. To get a de-fragmented frame, use `newframe = frame.copy()`\n",
      "  aapl_df[col+'_sentiment'] = sentiment_list\n",
      "C:\\Users\\newzn\\AppData\\Local\\Temp\\ipykernel_6104\\3977523630.py:14: PerformanceWarning: DataFrame is highly fragmented.  This is usually the result of calling `frame.insert` many times, which has poor performance.  Consider joining all columns at once using pd.concat(axis=1) instead. To get a de-fragmented frame, use `newframe = frame.copy()`\n",
      "  aapl_df[col+'_subjectivity'] = subjectivity_list\n",
      "C:\\Users\\newzn\\AppData\\Local\\Temp\\ipykernel_6104\\3977523630.py:13: PerformanceWarning: DataFrame is highly fragmented.  This is usually the result of calling `frame.insert` many times, which has poor performance.  Consider joining all columns at once using pd.concat(axis=1) instead. To get a de-fragmented frame, use `newframe = frame.copy()`\n",
      "  aapl_df[col+'_sentiment'] = sentiment_list\n",
      "C:\\Users\\newzn\\AppData\\Local\\Temp\\ipykernel_6104\\3977523630.py:14: PerformanceWarning: DataFrame is highly fragmented.  This is usually the result of calling `frame.insert` many times, which has poor performance.  Consider joining all columns at once using pd.concat(axis=1) instead. To get a de-fragmented frame, use `newframe = frame.copy()`\n",
      "  aapl_df[col+'_subjectivity'] = subjectivity_list\n",
      "C:\\Users\\newzn\\AppData\\Local\\Temp\\ipykernel_6104\\3977523630.py:13: PerformanceWarning: DataFrame is highly fragmented.  This is usually the result of calling `frame.insert` many times, which has poor performance.  Consider joining all columns at once using pd.concat(axis=1) instead. To get a de-fragmented frame, use `newframe = frame.copy()`\n",
      "  aapl_df[col+'_sentiment'] = sentiment_list\n",
      "C:\\Users\\newzn\\AppData\\Local\\Temp\\ipykernel_6104\\3977523630.py:14: PerformanceWarning: DataFrame is highly fragmented.  This is usually the result of calling `frame.insert` many times, which has poor performance.  Consider joining all columns at once using pd.concat(axis=1) instead. To get a de-fragmented frame, use `newframe = frame.copy()`\n",
      "  aapl_df[col+'_subjectivity'] = subjectivity_list\n"
     ]
    },
    {
     "name": "stdout",
     "output_type": "stream",
     "text": [
      "processing news_87...\n",
      "processing news_88...\n",
      "processing news_89...\n",
      "processing news_90...\n"
     ]
    },
    {
     "name": "stderr",
     "output_type": "stream",
     "text": [
      "C:\\Users\\newzn\\AppData\\Local\\Temp\\ipykernel_6104\\3977523630.py:13: PerformanceWarning: DataFrame is highly fragmented.  This is usually the result of calling `frame.insert` many times, which has poor performance.  Consider joining all columns at once using pd.concat(axis=1) instead. To get a de-fragmented frame, use `newframe = frame.copy()`\n",
      "  aapl_df[col+'_sentiment'] = sentiment_list\n",
      "C:\\Users\\newzn\\AppData\\Local\\Temp\\ipykernel_6104\\3977523630.py:14: PerformanceWarning: DataFrame is highly fragmented.  This is usually the result of calling `frame.insert` many times, which has poor performance.  Consider joining all columns at once using pd.concat(axis=1) instead. To get a de-fragmented frame, use `newframe = frame.copy()`\n",
      "  aapl_df[col+'_subjectivity'] = subjectivity_list\n",
      "C:\\Users\\newzn\\AppData\\Local\\Temp\\ipykernel_6104\\3977523630.py:13: PerformanceWarning: DataFrame is highly fragmented.  This is usually the result of calling `frame.insert` many times, which has poor performance.  Consider joining all columns at once using pd.concat(axis=1) instead. To get a de-fragmented frame, use `newframe = frame.copy()`\n",
      "  aapl_df[col+'_sentiment'] = sentiment_list\n",
      "C:\\Users\\newzn\\AppData\\Local\\Temp\\ipykernel_6104\\3977523630.py:14: PerformanceWarning: DataFrame is highly fragmented.  This is usually the result of calling `frame.insert` many times, which has poor performance.  Consider joining all columns at once using pd.concat(axis=1) instead. To get a de-fragmented frame, use `newframe = frame.copy()`\n",
      "  aapl_df[col+'_subjectivity'] = subjectivity_list\n",
      "C:\\Users\\newzn\\AppData\\Local\\Temp\\ipykernel_6104\\3977523630.py:13: PerformanceWarning: DataFrame is highly fragmented.  This is usually the result of calling `frame.insert` many times, which has poor performance.  Consider joining all columns at once using pd.concat(axis=1) instead. To get a de-fragmented frame, use `newframe = frame.copy()`\n",
      "  aapl_df[col+'_sentiment'] = sentiment_list\n",
      "C:\\Users\\newzn\\AppData\\Local\\Temp\\ipykernel_6104\\3977523630.py:14: PerformanceWarning: DataFrame is highly fragmented.  This is usually the result of calling `frame.insert` many times, which has poor performance.  Consider joining all columns at once using pd.concat(axis=1) instead. To get a de-fragmented frame, use `newframe = frame.copy()`\n",
      "  aapl_df[col+'_subjectivity'] = subjectivity_list\n",
      "C:\\Users\\newzn\\AppData\\Local\\Temp\\ipykernel_6104\\3977523630.py:13: PerformanceWarning: DataFrame is highly fragmented.  This is usually the result of calling `frame.insert` many times, which has poor performance.  Consider joining all columns at once using pd.concat(axis=1) instead. To get a de-fragmented frame, use `newframe = frame.copy()`\n",
      "  aapl_df[col+'_sentiment'] = sentiment_list\n",
      "C:\\Users\\newzn\\AppData\\Local\\Temp\\ipykernel_6104\\3977523630.py:14: PerformanceWarning: DataFrame is highly fragmented.  This is usually the result of calling `frame.insert` many times, which has poor performance.  Consider joining all columns at once using pd.concat(axis=1) instead. To get a de-fragmented frame, use `newframe = frame.copy()`\n",
      "  aapl_df[col+'_subjectivity'] = subjectivity_list\n"
     ]
    },
    {
     "name": "stdout",
     "output_type": "stream",
     "text": [
      "processing news_91...\n",
      "processing news_92...\n",
      "processing news_93...\n",
      "processing news_94...\n"
     ]
    },
    {
     "name": "stderr",
     "output_type": "stream",
     "text": [
      "C:\\Users\\newzn\\AppData\\Local\\Temp\\ipykernel_6104\\3977523630.py:13: PerformanceWarning: DataFrame is highly fragmented.  This is usually the result of calling `frame.insert` many times, which has poor performance.  Consider joining all columns at once using pd.concat(axis=1) instead. To get a de-fragmented frame, use `newframe = frame.copy()`\n",
      "  aapl_df[col+'_sentiment'] = sentiment_list\n",
      "C:\\Users\\newzn\\AppData\\Local\\Temp\\ipykernel_6104\\3977523630.py:14: PerformanceWarning: DataFrame is highly fragmented.  This is usually the result of calling `frame.insert` many times, which has poor performance.  Consider joining all columns at once using pd.concat(axis=1) instead. To get a de-fragmented frame, use `newframe = frame.copy()`\n",
      "  aapl_df[col+'_subjectivity'] = subjectivity_list\n",
      "C:\\Users\\newzn\\AppData\\Local\\Temp\\ipykernel_6104\\3977523630.py:13: PerformanceWarning: DataFrame is highly fragmented.  This is usually the result of calling `frame.insert` many times, which has poor performance.  Consider joining all columns at once using pd.concat(axis=1) instead. To get a de-fragmented frame, use `newframe = frame.copy()`\n",
      "  aapl_df[col+'_sentiment'] = sentiment_list\n",
      "C:\\Users\\newzn\\AppData\\Local\\Temp\\ipykernel_6104\\3977523630.py:14: PerformanceWarning: DataFrame is highly fragmented.  This is usually the result of calling `frame.insert` many times, which has poor performance.  Consider joining all columns at once using pd.concat(axis=1) instead. To get a de-fragmented frame, use `newframe = frame.copy()`\n",
      "  aapl_df[col+'_subjectivity'] = subjectivity_list\n"
     ]
    },
    {
     "name": "stdout",
     "output_type": "stream",
     "text": [
      "processing news_95...\n",
      "processing news_96...\n"
     ]
    },
    {
     "name": "stderr",
     "output_type": "stream",
     "text": [
      "C:\\Users\\newzn\\AppData\\Local\\Temp\\ipykernel_6104\\3977523630.py:13: PerformanceWarning: DataFrame is highly fragmented.  This is usually the result of calling `frame.insert` many times, which has poor performance.  Consider joining all columns at once using pd.concat(axis=1) instead. To get a de-fragmented frame, use `newframe = frame.copy()`\n",
      "  aapl_df[col+'_sentiment'] = sentiment_list\n",
      "C:\\Users\\newzn\\AppData\\Local\\Temp\\ipykernel_6104\\3977523630.py:14: PerformanceWarning: DataFrame is highly fragmented.  This is usually the result of calling `frame.insert` many times, which has poor performance.  Consider joining all columns at once using pd.concat(axis=1) instead. To get a de-fragmented frame, use `newframe = frame.copy()`\n",
      "  aapl_df[col+'_subjectivity'] = subjectivity_list\n",
      "C:\\Users\\newzn\\AppData\\Local\\Temp\\ipykernel_6104\\3977523630.py:13: PerformanceWarning: DataFrame is highly fragmented.  This is usually the result of calling `frame.insert` many times, which has poor performance.  Consider joining all columns at once using pd.concat(axis=1) instead. To get a de-fragmented frame, use `newframe = frame.copy()`\n",
      "  aapl_df[col+'_sentiment'] = sentiment_list\n",
      "C:\\Users\\newzn\\AppData\\Local\\Temp\\ipykernel_6104\\3977523630.py:14: PerformanceWarning: DataFrame is highly fragmented.  This is usually the result of calling `frame.insert` many times, which has poor performance.  Consider joining all columns at once using pd.concat(axis=1) instead. To get a de-fragmented frame, use `newframe = frame.copy()`\n",
      "  aapl_df[col+'_subjectivity'] = subjectivity_list\n",
      "C:\\Users\\newzn\\AppData\\Local\\Temp\\ipykernel_6104\\3977523630.py:13: PerformanceWarning: DataFrame is highly fragmented.  This is usually the result of calling `frame.insert` many times, which has poor performance.  Consider joining all columns at once using pd.concat(axis=1) instead. To get a de-fragmented frame, use `newframe = frame.copy()`\n",
      "  aapl_df[col+'_sentiment'] = sentiment_list\n",
      "C:\\Users\\newzn\\AppData\\Local\\Temp\\ipykernel_6104\\3977523630.py:14: PerformanceWarning: DataFrame is highly fragmented.  This is usually the result of calling `frame.insert` many times, which has poor performance.  Consider joining all columns at once using pd.concat(axis=1) instead. To get a de-fragmented frame, use `newframe = frame.copy()`\n",
      "  aapl_df[col+'_subjectivity'] = subjectivity_list\n",
      "C:\\Users\\newzn\\AppData\\Local\\Temp\\ipykernel_6104\\3977523630.py:13: PerformanceWarning: DataFrame is highly fragmented.  This is usually the result of calling `frame.insert` many times, which has poor performance.  Consider joining all columns at once using pd.concat(axis=1) instead. To get a de-fragmented frame, use `newframe = frame.copy()`\n",
      "  aapl_df[col+'_sentiment'] = sentiment_list\n",
      "C:\\Users\\newzn\\AppData\\Local\\Temp\\ipykernel_6104\\3977523630.py:14: PerformanceWarning: DataFrame is highly fragmented.  This is usually the result of calling `frame.insert` many times, which has poor performance.  Consider joining all columns at once using pd.concat(axis=1) instead. To get a de-fragmented frame, use `newframe = frame.copy()`\n",
      "  aapl_df[col+'_subjectivity'] = subjectivity_list\n"
     ]
    },
    {
     "name": "stdout",
     "output_type": "stream",
     "text": [
      "processing news_97...\n",
      "processing news_98...\n",
      "processing news_99...\n",
      "processing news_100...\n"
     ]
    },
    {
     "name": "stderr",
     "output_type": "stream",
     "text": [
      "C:\\Users\\newzn\\AppData\\Local\\Temp\\ipykernel_6104\\3977523630.py:13: PerformanceWarning: DataFrame is highly fragmented.  This is usually the result of calling `frame.insert` many times, which has poor performance.  Consider joining all columns at once using pd.concat(axis=1) instead. To get a de-fragmented frame, use `newframe = frame.copy()`\n",
      "  aapl_df[col+'_sentiment'] = sentiment_list\n",
      "C:\\Users\\newzn\\AppData\\Local\\Temp\\ipykernel_6104\\3977523630.py:14: PerformanceWarning: DataFrame is highly fragmented.  This is usually the result of calling `frame.insert` many times, which has poor performance.  Consider joining all columns at once using pd.concat(axis=1) instead. To get a de-fragmented frame, use `newframe = frame.copy()`\n",
      "  aapl_df[col+'_subjectivity'] = subjectivity_list\n",
      "C:\\Users\\newzn\\AppData\\Local\\Temp\\ipykernel_6104\\3977523630.py:13: PerformanceWarning: DataFrame is highly fragmented.  This is usually the result of calling `frame.insert` many times, which has poor performance.  Consider joining all columns at once using pd.concat(axis=1) instead. To get a de-fragmented frame, use `newframe = frame.copy()`\n",
      "  aapl_df[col+'_sentiment'] = sentiment_list\n",
      "C:\\Users\\newzn\\AppData\\Local\\Temp\\ipykernel_6104\\3977523630.py:14: PerformanceWarning: DataFrame is highly fragmented.  This is usually the result of calling `frame.insert` many times, which has poor performance.  Consider joining all columns at once using pd.concat(axis=1) instead. To get a de-fragmented frame, use `newframe = frame.copy()`\n",
      "  aapl_df[col+'_subjectivity'] = subjectivity_list\n",
      "C:\\Users\\newzn\\AppData\\Local\\Temp\\ipykernel_6104\\3977523630.py:13: PerformanceWarning: DataFrame is highly fragmented.  This is usually the result of calling `frame.insert` many times, which has poor performance.  Consider joining all columns at once using pd.concat(axis=1) instead. To get a de-fragmented frame, use `newframe = frame.copy()`\n",
      "  aapl_df[col+'_sentiment'] = sentiment_list\n",
      "C:\\Users\\newzn\\AppData\\Local\\Temp\\ipykernel_6104\\3977523630.py:14: PerformanceWarning: DataFrame is highly fragmented.  This is usually the result of calling `frame.insert` many times, which has poor performance.  Consider joining all columns at once using pd.concat(axis=1) instead. To get a de-fragmented frame, use `newframe = frame.copy()`\n",
      "  aapl_df[col+'_subjectivity'] = subjectivity_list\n",
      "C:\\Users\\newzn\\AppData\\Local\\Temp\\ipykernel_6104\\3977523630.py:13: PerformanceWarning: DataFrame is highly fragmented.  This is usually the result of calling `frame.insert` many times, which has poor performance.  Consider joining all columns at once using pd.concat(axis=1) instead. To get a de-fragmented frame, use `newframe = frame.copy()`\n",
      "  aapl_df[col+'_sentiment'] = sentiment_list\n",
      "C:\\Users\\newzn\\AppData\\Local\\Temp\\ipykernel_6104\\3977523630.py:14: PerformanceWarning: DataFrame is highly fragmented.  This is usually the result of calling `frame.insert` many times, which has poor performance.  Consider joining all columns at once using pd.concat(axis=1) instead. To get a de-fragmented frame, use `newframe = frame.copy()`\n",
      "  aapl_df[col+'_subjectivity'] = subjectivity_list\n",
      "C:\\Users\\newzn\\AppData\\Local\\Temp\\ipykernel_6104\\3977523630.py:13: PerformanceWarning: DataFrame is highly fragmented.  This is usually the result of calling `frame.insert` many times, which has poor performance.  Consider joining all columns at once using pd.concat(axis=1) instead. To get a de-fragmented frame, use `newframe = frame.copy()`\n",
      "  aapl_df[col+'_sentiment'] = sentiment_list\n",
      "C:\\Users\\newzn\\AppData\\Local\\Temp\\ipykernel_6104\\3977523630.py:14: PerformanceWarning: DataFrame is highly fragmented.  This is usually the result of calling `frame.insert` many times, which has poor performance.  Consider joining all columns at once using pd.concat(axis=1) instead. To get a de-fragmented frame, use `newframe = frame.copy()`\n",
      "  aapl_df[col+'_subjectivity'] = subjectivity_list\n",
      "C:\\Users\\newzn\\AppData\\Local\\Temp\\ipykernel_6104\\3977523630.py:13: PerformanceWarning: DataFrame is highly fragmented.  This is usually the result of calling `frame.insert` many times, which has poor performance.  Consider joining all columns at once using pd.concat(axis=1) instead. To get a de-fragmented frame, use `newframe = frame.copy()`\n",
      "  aapl_df[col+'_sentiment'] = sentiment_list\n",
      "C:\\Users\\newzn\\AppData\\Local\\Temp\\ipykernel_6104\\3977523630.py:14: PerformanceWarning: DataFrame is highly fragmented.  This is usually the result of calling `frame.insert` many times, which has poor performance.  Consider joining all columns at once using pd.concat(axis=1) instead. To get a de-fragmented frame, use `newframe = frame.copy()`\n",
      "  aapl_df[col+'_subjectivity'] = subjectivity_list\n",
      "C:\\Users\\newzn\\AppData\\Local\\Temp\\ipykernel_6104\\3977523630.py:13: PerformanceWarning: DataFrame is highly fragmented.  This is usually the result of calling `frame.insert` many times, which has poor performance.  Consider joining all columns at once using pd.concat(axis=1) instead. To get a de-fragmented frame, use `newframe = frame.copy()`\n",
      "  aapl_df[col+'_sentiment'] = sentiment_list\n",
      "C:\\Users\\newzn\\AppData\\Local\\Temp\\ipykernel_6104\\3977523630.py:14: PerformanceWarning: DataFrame is highly fragmented.  This is usually the result of calling `frame.insert` many times, which has poor performance.  Consider joining all columns at once using pd.concat(axis=1) instead. To get a de-fragmented frame, use `newframe = frame.copy()`\n",
      "  aapl_df[col+'_subjectivity'] = subjectivity_list\n",
      "C:\\Users\\newzn\\AppData\\Local\\Temp\\ipykernel_6104\\3977523630.py:13: PerformanceWarning: DataFrame is highly fragmented.  This is usually the result of calling `frame.insert` many times, which has poor performance.  Consider joining all columns at once using pd.concat(axis=1) instead. To get a de-fragmented frame, use `newframe = frame.copy()`\n",
      "  aapl_df[col+'_sentiment'] = sentiment_list\n",
      "C:\\Users\\newzn\\AppData\\Local\\Temp\\ipykernel_6104\\3977523630.py:14: PerformanceWarning: DataFrame is highly fragmented.  This is usually the result of calling `frame.insert` many times, which has poor performance.  Consider joining all columns at once using pd.concat(axis=1) instead. To get a de-fragmented frame, use `newframe = frame.copy()`\n",
      "  aapl_df[col+'_subjectivity'] = subjectivity_list\n"
     ]
    },
    {
     "name": "stdout",
     "output_type": "stream",
     "text": [
      "processing news_101...\n",
      "processing news_102...\n",
      "processing news_103...\n",
      "processing news_104...\n",
      "processing news_105...\n",
      "processing news_106...\n",
      "processing news_107...\n",
      "processing news_108...\n",
      "processing news_109...\n",
      "processing news_110...\n",
      "processing news_111...\n",
      "processing news_112...\n"
     ]
    },
    {
     "name": "stderr",
     "output_type": "stream",
     "text": [
      "C:\\Users\\newzn\\AppData\\Local\\Temp\\ipykernel_6104\\3977523630.py:13: PerformanceWarning: DataFrame is highly fragmented.  This is usually the result of calling `frame.insert` many times, which has poor performance.  Consider joining all columns at once using pd.concat(axis=1) instead. To get a de-fragmented frame, use `newframe = frame.copy()`\n",
      "  aapl_df[col+'_sentiment'] = sentiment_list\n",
      "C:\\Users\\newzn\\AppData\\Local\\Temp\\ipykernel_6104\\3977523630.py:14: PerformanceWarning: DataFrame is highly fragmented.  This is usually the result of calling `frame.insert` many times, which has poor performance.  Consider joining all columns at once using pd.concat(axis=1) instead. To get a de-fragmented frame, use `newframe = frame.copy()`\n",
      "  aapl_df[col+'_subjectivity'] = subjectivity_list\n",
      "C:\\Users\\newzn\\AppData\\Local\\Temp\\ipykernel_6104\\3977523630.py:13: PerformanceWarning: DataFrame is highly fragmented.  This is usually the result of calling `frame.insert` many times, which has poor performance.  Consider joining all columns at once using pd.concat(axis=1) instead. To get a de-fragmented frame, use `newframe = frame.copy()`\n",
      "  aapl_df[col+'_sentiment'] = sentiment_list\n",
      "C:\\Users\\newzn\\AppData\\Local\\Temp\\ipykernel_6104\\3977523630.py:14: PerformanceWarning: DataFrame is highly fragmented.  This is usually the result of calling `frame.insert` many times, which has poor performance.  Consider joining all columns at once using pd.concat(axis=1) instead. To get a de-fragmented frame, use `newframe = frame.copy()`\n",
      "  aapl_df[col+'_subjectivity'] = subjectivity_list\n",
      "C:\\Users\\newzn\\AppData\\Local\\Temp\\ipykernel_6104\\3977523630.py:13: PerformanceWarning: DataFrame is highly fragmented.  This is usually the result of calling `frame.insert` many times, which has poor performance.  Consider joining all columns at once using pd.concat(axis=1) instead. To get a de-fragmented frame, use `newframe = frame.copy()`\n",
      "  aapl_df[col+'_sentiment'] = sentiment_list\n",
      "C:\\Users\\newzn\\AppData\\Local\\Temp\\ipykernel_6104\\3977523630.py:14: PerformanceWarning: DataFrame is highly fragmented.  This is usually the result of calling `frame.insert` many times, which has poor performance.  Consider joining all columns at once using pd.concat(axis=1) instead. To get a de-fragmented frame, use `newframe = frame.copy()`\n",
      "  aapl_df[col+'_subjectivity'] = subjectivity_list\n",
      "C:\\Users\\newzn\\AppData\\Local\\Temp\\ipykernel_6104\\3977523630.py:13: PerformanceWarning: DataFrame is highly fragmented.  This is usually the result of calling `frame.insert` many times, which has poor performance.  Consider joining all columns at once using pd.concat(axis=1) instead. To get a de-fragmented frame, use `newframe = frame.copy()`\n",
      "  aapl_df[col+'_sentiment'] = sentiment_list\n",
      "C:\\Users\\newzn\\AppData\\Local\\Temp\\ipykernel_6104\\3977523630.py:14: PerformanceWarning: DataFrame is highly fragmented.  This is usually the result of calling `frame.insert` many times, which has poor performance.  Consider joining all columns at once using pd.concat(axis=1) instead. To get a de-fragmented frame, use `newframe = frame.copy()`\n",
      "  aapl_df[col+'_subjectivity'] = subjectivity_list\n",
      "C:\\Users\\newzn\\AppData\\Local\\Temp\\ipykernel_6104\\3977523630.py:13: PerformanceWarning: DataFrame is highly fragmented.  This is usually the result of calling `frame.insert` many times, which has poor performance.  Consider joining all columns at once using pd.concat(axis=1) instead. To get a de-fragmented frame, use `newframe = frame.copy()`\n",
      "  aapl_df[col+'_sentiment'] = sentiment_list\n",
      "C:\\Users\\newzn\\AppData\\Local\\Temp\\ipykernel_6104\\3977523630.py:14: PerformanceWarning: DataFrame is highly fragmented.  This is usually the result of calling `frame.insert` many times, which has poor performance.  Consider joining all columns at once using pd.concat(axis=1) instead. To get a de-fragmented frame, use `newframe = frame.copy()`\n",
      "  aapl_df[col+'_subjectivity'] = subjectivity_list\n"
     ]
    }
   ],
   "source": [
    "for col in news_columns: #here I iterate news columns so col is \"news_1\", \"news_2\"...\n",
    "    sentiment_list = []\n",
    "    subjectivity_list = []\n",
    "    print(f'processing {col}...')\n",
    "    for news in list(aapl_df[col]): #here I iterate news column per singular news\n",
    "        if str(news) != 'nan':\n",
    "            doc = nlp(news)\n",
    "            sentiment_list.append(doc._.blob.polarity)\n",
    "            subjectivity_list.append(doc._.blob.subjectivity)\n",
    "        else:\n",
    "            sentiment_list.append(\"None\")\n",
    "            subjectivity_list.append(\"None\")\n",
    "    aapl_df[col+'_sentiment'] = sentiment_list\n",
    "    aapl_df[col+'_subjectivity'] = subjectivity_list"
   ]
  },
  {
   "cell_type": "code",
   "execution_count": 35,
   "id": "efbfac22-9dca-4050-ac2a-ee2b4cc14328",
   "metadata": {},
   "outputs": [],
   "source": [
    "aapl_df.to_csv('data/sent_subj_aapl.csv')"
   ]
  },
  {
   "cell_type": "code",
   "execution_count": 37,
   "id": "a623af1c-4408-439b-b8b1-f2f0bd7efdce",
   "metadata": {},
   "outputs": [],
   "source": [
    "sentiment_columns = [x+'_sentiment' for x in news_columns]\n",
    "subjectivity_columns = [x+'_subjectivity' for x in news_columns]"
   ]
  },
  {
   "cell_type": "code",
   "execution_count": 39,
   "id": "aca91bc7-1059-4973-9026-91e2047f115c",
   "metadata": {},
   "outputs": [
    {
     "name": "stdout",
     "output_type": "stream",
     "text": [
      "['news_1_sentiment', 'news_2_sentiment', 'news_3_sentiment', 'news_4_sentiment', 'news_5_sentiment', 'news_6_sentiment', 'news_7_sentiment', 'news_8_sentiment', 'news_9_sentiment', 'news_10_sentiment', 'news_11_sentiment', 'news_12_sentiment', 'news_13_sentiment', 'news_14_sentiment', 'news_15_sentiment', 'news_16_sentiment', 'news_17_sentiment', 'news_18_sentiment', 'news_19_sentiment', 'news_20_sentiment', 'news_21_sentiment', 'news_22_sentiment', 'news_23_sentiment', 'news_24_sentiment', 'news_25_sentiment', 'news_26_sentiment', 'news_27_sentiment', 'news_28_sentiment', 'news_29_sentiment', 'news_30_sentiment', 'news_31_sentiment', 'news_32_sentiment', 'news_33_sentiment', 'news_34_sentiment', 'news_35_sentiment', 'news_36_sentiment', 'news_37_sentiment', 'news_38_sentiment', 'news_39_sentiment', 'news_40_sentiment', 'news_41_sentiment', 'news_42_sentiment', 'news_43_sentiment', 'news_44_sentiment', 'news_45_sentiment', 'news_46_sentiment', 'news_47_sentiment', 'news_48_sentiment', 'news_49_sentiment', 'news_50_sentiment', 'news_51_sentiment', 'news_52_sentiment', 'news_53_sentiment', 'news_54_sentiment', 'news_55_sentiment', 'news_56_sentiment', 'news_57_sentiment', 'news_58_sentiment', 'news_59_sentiment', 'news_60_sentiment', 'news_61_sentiment', 'news_62_sentiment', 'news_63_sentiment', 'news_64_sentiment', 'news_65_sentiment', 'news_66_sentiment', 'news_67_sentiment', 'news_68_sentiment', 'news_69_sentiment', 'news_70_sentiment', 'news_71_sentiment', 'news_72_sentiment', 'news_73_sentiment', 'news_74_sentiment', 'news_75_sentiment', 'news_76_sentiment', 'news_77_sentiment', 'news_78_sentiment', 'news_79_sentiment', 'news_80_sentiment', 'news_81_sentiment', 'news_82_sentiment', 'news_83_sentiment', 'news_84_sentiment', 'news_85_sentiment', 'news_86_sentiment', 'news_87_sentiment', 'news_88_sentiment', 'news_89_sentiment', 'news_90_sentiment', 'news_91_sentiment', 'news_92_sentiment', 'news_93_sentiment', 'news_94_sentiment', 'news_95_sentiment', 'news_96_sentiment', 'news_97_sentiment', 'news_98_sentiment', 'news_99_sentiment', 'news_100_sentiment', 'news_101_sentiment', 'news_102_sentiment', 'news_103_sentiment', 'news_104_sentiment', 'news_105_sentiment', 'news_106_sentiment', 'news_107_sentiment', 'news_108_sentiment', 'news_109_sentiment', 'news_110_sentiment', 'news_111_sentiment', 'news_112_sentiment']\n",
      "['news_1_subjectivity', 'news_2_subjectivity', 'news_3_subjectivity', 'news_4_subjectivity', 'news_5_subjectivity', 'news_6_subjectivity', 'news_7_subjectivity', 'news_8_subjectivity', 'news_9_subjectivity', 'news_10_subjectivity', 'news_11_subjectivity', 'news_12_subjectivity', 'news_13_subjectivity', 'news_14_subjectivity', 'news_15_subjectivity', 'news_16_subjectivity', 'news_17_subjectivity', 'news_18_subjectivity', 'news_19_subjectivity', 'news_20_subjectivity', 'news_21_subjectivity', 'news_22_subjectivity', 'news_23_subjectivity', 'news_24_subjectivity', 'news_25_subjectivity', 'news_26_subjectivity', 'news_27_subjectivity', 'news_28_subjectivity', 'news_29_subjectivity', 'news_30_subjectivity', 'news_31_subjectivity', 'news_32_subjectivity', 'news_33_subjectivity', 'news_34_subjectivity', 'news_35_subjectivity', 'news_36_subjectivity', 'news_37_subjectivity', 'news_38_subjectivity', 'news_39_subjectivity', 'news_40_subjectivity', 'news_41_subjectivity', 'news_42_subjectivity', 'news_43_subjectivity', 'news_44_subjectivity', 'news_45_subjectivity', 'news_46_subjectivity', 'news_47_subjectivity', 'news_48_subjectivity', 'news_49_subjectivity', 'news_50_subjectivity', 'news_51_subjectivity', 'news_52_subjectivity', 'news_53_subjectivity', 'news_54_subjectivity', 'news_55_subjectivity', 'news_56_subjectivity', 'news_57_subjectivity', 'news_58_subjectivity', 'news_59_subjectivity', 'news_60_subjectivity', 'news_61_subjectivity', 'news_62_subjectivity', 'news_63_subjectivity', 'news_64_subjectivity', 'news_65_subjectivity', 'news_66_subjectivity', 'news_67_subjectivity', 'news_68_subjectivity', 'news_69_subjectivity', 'news_70_subjectivity', 'news_71_subjectivity', 'news_72_subjectivity', 'news_73_subjectivity', 'news_74_subjectivity', 'news_75_subjectivity', 'news_76_subjectivity', 'news_77_subjectivity', 'news_78_subjectivity', 'news_79_subjectivity', 'news_80_subjectivity', 'news_81_subjectivity', 'news_82_subjectivity', 'news_83_subjectivity', 'news_84_subjectivity', 'news_85_subjectivity', 'news_86_subjectivity', 'news_87_subjectivity', 'news_88_subjectivity', 'news_89_subjectivity', 'news_90_subjectivity', 'news_91_subjectivity', 'news_92_subjectivity', 'news_93_subjectivity', 'news_94_subjectivity', 'news_95_subjectivity', 'news_96_subjectivity', 'news_97_subjectivity', 'news_98_subjectivity', 'news_99_subjectivity', 'news_100_subjectivity', 'news_101_subjectivity', 'news_102_subjectivity', 'news_103_subjectivity', 'news_104_subjectivity', 'news_105_subjectivity', 'news_106_subjectivity', 'news_107_subjectivity', 'news_108_subjectivity', 'news_109_subjectivity', 'news_110_subjectivity', 'news_111_subjectivity', 'news_112_subjectivity']\n"
     ]
    }
   ],
   "source": [
    "print(sentiment_columns)\n",
    "print(subjectivity_columns)"
   ]
  },
  {
   "cell_type": "code",
   "execution_count": 66,
   "id": "6a9540b7-a708-46a5-859f-e6ae822f1b37",
   "metadata": {},
   "outputs": [],
   "source": [
    "daily_sentiment_col = []\n",
    "daily_subjectivity_col = []\n",
    "for i in range(len(aapl_df)):\n",
    "    sentiment_per_row_list = []\n",
    "    subjectivity_per_row_list = []\n",
    "    for sent_col, subj_col in zip(sentiment_columns,subjectivity_columns):\n",
    "        sentiment_per_news = aapl_df.iloc[i][sent_col]\n",
    "        subjectivity_per_news = aapl_df.iloc[i][subj_col]\n",
    "        sentiment_per_row_list.append(sentiment_per_news)\n",
    "        subjectivity_per_row_list.append(subjectivity_per_news)\n",
    "    if sentiment_per_row_list[0]!=\"None\":\n",
    "        daily_sentiment_col.append(mean([x for x in sentiment_per_row_list if x!=\"None\" ]))\n",
    "        daily_subjectivity_col.append(mean([x for x in subjectivity_per_row_list if x!=\"None\" ]))\n",
    "    else:\n",
    "        daily_sentiment_col.append(np.nan)\n",
    "        daily_subjectivity_col.append(np.nan)"
   ]
  },
  {
   "cell_type": "code",
   "execution_count": 69,
   "id": "2309b17e-3aff-4f77-a3ae-a70950b21924",
   "metadata": {},
   "outputs": [
    {
     "name": "stderr",
     "output_type": "stream",
     "text": [
      "C:\\Users\\newzn\\AppData\\Local\\Temp\\ipykernel_6104\\3019237805.py:1: PerformanceWarning: DataFrame is highly fragmented.  This is usually the result of calling `frame.insert` many times, which has poor performance.  Consider joining all columns at once using pd.concat(axis=1) instead. To get a de-fragmented frame, use `newframe = frame.copy()`\n",
      "  aapl_df['daily_sentiment'] = daily_sentiment_col\n",
      "C:\\Users\\newzn\\AppData\\Local\\Temp\\ipykernel_6104\\3019237805.py:2: PerformanceWarning: DataFrame is highly fragmented.  This is usually the result of calling `frame.insert` many times, which has poor performance.  Consider joining all columns at once using pd.concat(axis=1) instead. To get a de-fragmented frame, use `newframe = frame.copy()`\n",
      "  aapl_df['daily_subjectivity'] = daily_subjectivity_col\n"
     ]
    }
   ],
   "source": [
    "aapl_df['daily_sentiment'] = daily_sentiment_col\n",
    "aapl_df['daily_subjectivity'] = daily_subjectivity_col"
   ]
  },
  {
   "cell_type": "code",
   "execution_count": 76,
   "id": "04db7f3d-2463-4752-89a0-270b4d10a6e0",
   "metadata": {},
   "outputs": [],
   "source": [
    "for col in aapl_df.columns:\n",
    "    if col.startswith('news'):\n",
    "        del aapl_df[col]"
   ]
  },
  {
   "cell_type": "code",
   "execution_count": 82,
   "id": "6bceff07-2549-4255-a3af-fcbb54ae8c2c",
   "metadata": {},
   "outputs": [],
   "source": [
    "aapl_df.to_csv('data/sent_subj_aapl.csv')"
   ]
  },
  {
   "cell_type": "code",
   "execution_count": null,
   "id": "8eaaec0e-2037-4859-9e63-fe15f702ee01",
   "metadata": {},
   "outputs": [],
   "source": []
  }
 ],
 "metadata": {
  "kernelspec": {
   "display_name": "Python 3 (ipykernel)",
   "language": "python",
   "name": "python3"
  },
  "language_info": {
   "codemirror_mode": {
    "name": "ipython",
    "version": 3
   },
   "file_extension": ".py",
   "mimetype": "text/x-python",
   "name": "python",
   "nbconvert_exporter": "python",
   "pygments_lexer": "ipython3",
   "version": "3.11.5"
  }
 },
 "nbformat": 4,
 "nbformat_minor": 5
}
